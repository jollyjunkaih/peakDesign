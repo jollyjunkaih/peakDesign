{
  "nbformat": 4,
  "nbformat_minor": 0,
  "metadata": {
    "colab": {
      "provenance": [],
      "collapsed_sections": []
    },
    "kernelspec": {
      "name": "python3",
      "display_name": "Python 3"
    },
    "language_info": {
      "name": "python"
    },
    "widgets": {
      "application/vnd.jupyter.widget-state+json": {
        "f8ec27148637442a994daa44e9642e60": {
          "model_module": "@jupyter-widgets/controls",
          "model_name": "HBoxModel",
          "model_module_version": "1.5.0",
          "state": {
            "_dom_classes": [],
            "_model_module": "@jupyter-widgets/controls",
            "_model_module_version": "1.5.0",
            "_model_name": "HBoxModel",
            "_view_count": null,
            "_view_module": "@jupyter-widgets/controls",
            "_view_module_version": "1.5.0",
            "_view_name": "HBoxView",
            "box_style": "",
            "children": [
              "IPY_MODEL_a662e2c3f9134b87a63e08e70bc17c6e",
              "IPY_MODEL_93b9ae71090a41dea229329b99024530",
              "IPY_MODEL_90efb2864fb54a84bd845a0e35420117"
            ],
            "layout": "IPY_MODEL_619885a3931c48bfb85316e75a24e762"
          }
        },
        "a662e2c3f9134b87a63e08e70bc17c6e": {
          "model_module": "@jupyter-widgets/controls",
          "model_name": "HTMLModel",
          "model_module_version": "1.5.0",
          "state": {
            "_dom_classes": [],
            "_model_module": "@jupyter-widgets/controls",
            "_model_module_version": "1.5.0",
            "_model_name": "HTMLModel",
            "_view_count": null,
            "_view_module": "@jupyter-widgets/controls",
            "_view_module_version": "1.5.0",
            "_view_name": "HTMLView",
            "description": "",
            "description_tooltip": null,
            "layout": "IPY_MODEL_f5257497c0bd4eff919252bfe5e243b0",
            "placeholder": "​",
            "style": "IPY_MODEL_223041eb03964505a78b327f67276d10",
            "value": "100%"
          }
        },
        "93b9ae71090a41dea229329b99024530": {
          "model_module": "@jupyter-widgets/controls",
          "model_name": "FloatProgressModel",
          "model_module_version": "1.5.0",
          "state": {
            "_dom_classes": [],
            "_model_module": "@jupyter-widgets/controls",
            "_model_module_version": "1.5.0",
            "_model_name": "FloatProgressModel",
            "_view_count": null,
            "_view_module": "@jupyter-widgets/controls",
            "_view_module_version": "1.5.0",
            "_view_name": "ProgressView",
            "bar_style": "success",
            "description": "",
            "description_tooltip": null,
            "layout": "IPY_MODEL_7c912212f9d847048844133bc9150cae",
            "max": 161,
            "min": 0,
            "orientation": "horizontal",
            "style": "IPY_MODEL_5ef19367058f4d3e8590ee40c28e72ed",
            "value": 161
          }
        },
        "90efb2864fb54a84bd845a0e35420117": {
          "model_module": "@jupyter-widgets/controls",
          "model_name": "HTMLModel",
          "model_module_version": "1.5.0",
          "state": {
            "_dom_classes": [],
            "_model_module": "@jupyter-widgets/controls",
            "_model_module_version": "1.5.0",
            "_model_name": "HTMLModel",
            "_view_count": null,
            "_view_module": "@jupyter-widgets/controls",
            "_view_module_version": "1.5.0",
            "_view_name": "HTMLView",
            "description": "",
            "description_tooltip": null,
            "layout": "IPY_MODEL_de215f423bf04aa9b130cc4d94e711cd",
            "placeholder": "​",
            "style": "IPY_MODEL_d5745140ef0740a6856d6966af5a9fb9",
            "value": " 161/161 [00:00&lt;00:00, 280.33it/s]"
          }
        },
        "619885a3931c48bfb85316e75a24e762": {
          "model_module": "@jupyter-widgets/base",
          "model_name": "LayoutModel",
          "model_module_version": "1.2.0",
          "state": {
            "_model_module": "@jupyter-widgets/base",
            "_model_module_version": "1.2.0",
            "_model_name": "LayoutModel",
            "_view_count": null,
            "_view_module": "@jupyter-widgets/base",
            "_view_module_version": "1.2.0",
            "_view_name": "LayoutView",
            "align_content": null,
            "align_items": null,
            "align_self": null,
            "border": null,
            "bottom": null,
            "display": null,
            "flex": null,
            "flex_flow": null,
            "grid_area": null,
            "grid_auto_columns": null,
            "grid_auto_flow": null,
            "grid_auto_rows": null,
            "grid_column": null,
            "grid_gap": null,
            "grid_row": null,
            "grid_template_areas": null,
            "grid_template_columns": null,
            "grid_template_rows": null,
            "height": null,
            "justify_content": null,
            "justify_items": null,
            "left": null,
            "margin": null,
            "max_height": null,
            "max_width": null,
            "min_height": null,
            "min_width": null,
            "object_fit": null,
            "object_position": null,
            "order": null,
            "overflow": null,
            "overflow_x": null,
            "overflow_y": null,
            "padding": null,
            "right": null,
            "top": null,
            "visibility": null,
            "width": null
          }
        },
        "f5257497c0bd4eff919252bfe5e243b0": {
          "model_module": "@jupyter-widgets/base",
          "model_name": "LayoutModel",
          "model_module_version": "1.2.0",
          "state": {
            "_model_module": "@jupyter-widgets/base",
            "_model_module_version": "1.2.0",
            "_model_name": "LayoutModel",
            "_view_count": null,
            "_view_module": "@jupyter-widgets/base",
            "_view_module_version": "1.2.0",
            "_view_name": "LayoutView",
            "align_content": null,
            "align_items": null,
            "align_self": null,
            "border": null,
            "bottom": null,
            "display": null,
            "flex": null,
            "flex_flow": null,
            "grid_area": null,
            "grid_auto_columns": null,
            "grid_auto_flow": null,
            "grid_auto_rows": null,
            "grid_column": null,
            "grid_gap": null,
            "grid_row": null,
            "grid_template_areas": null,
            "grid_template_columns": null,
            "grid_template_rows": null,
            "height": null,
            "justify_content": null,
            "justify_items": null,
            "left": null,
            "margin": null,
            "max_height": null,
            "max_width": null,
            "min_height": null,
            "min_width": null,
            "object_fit": null,
            "object_position": null,
            "order": null,
            "overflow": null,
            "overflow_x": null,
            "overflow_y": null,
            "padding": null,
            "right": null,
            "top": null,
            "visibility": null,
            "width": null
          }
        },
        "223041eb03964505a78b327f67276d10": {
          "model_module": "@jupyter-widgets/controls",
          "model_name": "DescriptionStyleModel",
          "model_module_version": "1.5.0",
          "state": {
            "_model_module": "@jupyter-widgets/controls",
            "_model_module_version": "1.5.0",
            "_model_name": "DescriptionStyleModel",
            "_view_count": null,
            "_view_module": "@jupyter-widgets/base",
            "_view_module_version": "1.2.0",
            "_view_name": "StyleView",
            "description_width": ""
          }
        },
        "7c912212f9d847048844133bc9150cae": {
          "model_module": "@jupyter-widgets/base",
          "model_name": "LayoutModel",
          "model_module_version": "1.2.0",
          "state": {
            "_model_module": "@jupyter-widgets/base",
            "_model_module_version": "1.2.0",
            "_model_name": "LayoutModel",
            "_view_count": null,
            "_view_module": "@jupyter-widgets/base",
            "_view_module_version": "1.2.0",
            "_view_name": "LayoutView",
            "align_content": null,
            "align_items": null,
            "align_self": null,
            "border": null,
            "bottom": null,
            "display": null,
            "flex": null,
            "flex_flow": null,
            "grid_area": null,
            "grid_auto_columns": null,
            "grid_auto_flow": null,
            "grid_auto_rows": null,
            "grid_column": null,
            "grid_gap": null,
            "grid_row": null,
            "grid_template_areas": null,
            "grid_template_columns": null,
            "grid_template_rows": null,
            "height": null,
            "justify_content": null,
            "justify_items": null,
            "left": null,
            "margin": null,
            "max_height": null,
            "max_width": null,
            "min_height": null,
            "min_width": null,
            "object_fit": null,
            "object_position": null,
            "order": null,
            "overflow": null,
            "overflow_x": null,
            "overflow_y": null,
            "padding": null,
            "right": null,
            "top": null,
            "visibility": null,
            "width": null
          }
        },
        "5ef19367058f4d3e8590ee40c28e72ed": {
          "model_module": "@jupyter-widgets/controls",
          "model_name": "ProgressStyleModel",
          "model_module_version": "1.5.0",
          "state": {
            "_model_module": "@jupyter-widgets/controls",
            "_model_module_version": "1.5.0",
            "_model_name": "ProgressStyleModel",
            "_view_count": null,
            "_view_module": "@jupyter-widgets/base",
            "_view_module_version": "1.2.0",
            "_view_name": "StyleView",
            "bar_color": null,
            "description_width": ""
          }
        },
        "de215f423bf04aa9b130cc4d94e711cd": {
          "model_module": "@jupyter-widgets/base",
          "model_name": "LayoutModel",
          "model_module_version": "1.2.0",
          "state": {
            "_model_module": "@jupyter-widgets/base",
            "_model_module_version": "1.2.0",
            "_model_name": "LayoutModel",
            "_view_count": null,
            "_view_module": "@jupyter-widgets/base",
            "_view_module_version": "1.2.0",
            "_view_name": "LayoutView",
            "align_content": null,
            "align_items": null,
            "align_self": null,
            "border": null,
            "bottom": null,
            "display": null,
            "flex": null,
            "flex_flow": null,
            "grid_area": null,
            "grid_auto_columns": null,
            "grid_auto_flow": null,
            "grid_auto_rows": null,
            "grid_column": null,
            "grid_gap": null,
            "grid_row": null,
            "grid_template_areas": null,
            "grid_template_columns": null,
            "grid_template_rows": null,
            "height": null,
            "justify_content": null,
            "justify_items": null,
            "left": null,
            "margin": null,
            "max_height": null,
            "max_width": null,
            "min_height": null,
            "min_width": null,
            "object_fit": null,
            "object_position": null,
            "order": null,
            "overflow": null,
            "overflow_x": null,
            "overflow_y": null,
            "padding": null,
            "right": null,
            "top": null,
            "visibility": null,
            "width": null
          }
        },
        "d5745140ef0740a6856d6966af5a9fb9": {
          "model_module": "@jupyter-widgets/controls",
          "model_name": "DescriptionStyleModel",
          "model_module_version": "1.5.0",
          "state": {
            "_model_module": "@jupyter-widgets/controls",
            "_model_module_version": "1.5.0",
            "_model_name": "DescriptionStyleModel",
            "_view_count": null,
            "_view_module": "@jupyter-widgets/base",
            "_view_module_version": "1.2.0",
            "_view_name": "StyleView",
            "description_width": ""
          }
        },
        "bab40b943df14837b4fbc0985e4a7c8b": {
          "model_module": "@jupyter-widgets/controls",
          "model_name": "HBoxModel",
          "model_module_version": "1.5.0",
          "state": {
            "_dom_classes": [],
            "_model_module": "@jupyter-widgets/controls",
            "_model_module_version": "1.5.0",
            "_model_name": "HBoxModel",
            "_view_count": null,
            "_view_module": "@jupyter-widgets/controls",
            "_view_module_version": "1.5.0",
            "_view_name": "HBoxView",
            "box_style": "",
            "children": [
              "IPY_MODEL_2638345e1ee642edafe3937812e109aa",
              "IPY_MODEL_02a6ed0cf84b4dea897549aae60b4164",
              "IPY_MODEL_2d2263c4ea3d4fea96bf27a4a885f484"
            ],
            "layout": "IPY_MODEL_2bc59c7ec946420385743acc9301b3de"
          }
        },
        "2638345e1ee642edafe3937812e109aa": {
          "model_module": "@jupyter-widgets/controls",
          "model_name": "HTMLModel",
          "model_module_version": "1.5.0",
          "state": {
            "_dom_classes": [],
            "_model_module": "@jupyter-widgets/controls",
            "_model_module_version": "1.5.0",
            "_model_name": "HTMLModel",
            "_view_count": null,
            "_view_module": "@jupyter-widgets/controls",
            "_view_module_version": "1.5.0",
            "_view_name": "HTMLView",
            "description": "",
            "description_tooltip": null,
            "layout": "IPY_MODEL_21581eded0da41d3af678998fb5f8cfe",
            "placeholder": "​",
            "style": "IPY_MODEL_954fe576329f420f90e340ff2d98ee5b",
            "value": "100%"
          }
        },
        "02a6ed0cf84b4dea897549aae60b4164": {
          "model_module": "@jupyter-widgets/controls",
          "model_name": "FloatProgressModel",
          "model_module_version": "1.5.0",
          "state": {
            "_dom_classes": [],
            "_model_module": "@jupyter-widgets/controls",
            "_model_module_version": "1.5.0",
            "_model_name": "FloatProgressModel",
            "_view_count": null,
            "_view_module": "@jupyter-widgets/controls",
            "_view_module_version": "1.5.0",
            "_view_name": "ProgressView",
            "bar_style": "success",
            "description": "",
            "description_tooltip": null,
            "layout": "IPY_MODEL_edd0be65a83e4b87abe5c9f2375a0275",
            "max": 161,
            "min": 0,
            "orientation": "horizontal",
            "style": "IPY_MODEL_34134c1b8199479ba87124b989111771",
            "value": 161
          }
        },
        "2d2263c4ea3d4fea96bf27a4a885f484": {
          "model_module": "@jupyter-widgets/controls",
          "model_name": "HTMLModel",
          "model_module_version": "1.5.0",
          "state": {
            "_dom_classes": [],
            "_model_module": "@jupyter-widgets/controls",
            "_model_module_version": "1.5.0",
            "_model_name": "HTMLModel",
            "_view_count": null,
            "_view_module": "@jupyter-widgets/controls",
            "_view_module_version": "1.5.0",
            "_view_name": "HTMLView",
            "description": "",
            "description_tooltip": null,
            "layout": "IPY_MODEL_4803ea4145314ebfb05e03ff0525e0fe",
            "placeholder": "​",
            "style": "IPY_MODEL_6818c0d4658148f59152b61305c50a9a",
            "value": " 161/161 [00:00&lt;00:00, 281.00it/s]"
          }
        },
        "2bc59c7ec946420385743acc9301b3de": {
          "model_module": "@jupyter-widgets/base",
          "model_name": "LayoutModel",
          "model_module_version": "1.2.0",
          "state": {
            "_model_module": "@jupyter-widgets/base",
            "_model_module_version": "1.2.0",
            "_model_name": "LayoutModel",
            "_view_count": null,
            "_view_module": "@jupyter-widgets/base",
            "_view_module_version": "1.2.0",
            "_view_name": "LayoutView",
            "align_content": null,
            "align_items": null,
            "align_self": null,
            "border": null,
            "bottom": null,
            "display": null,
            "flex": null,
            "flex_flow": null,
            "grid_area": null,
            "grid_auto_columns": null,
            "grid_auto_flow": null,
            "grid_auto_rows": null,
            "grid_column": null,
            "grid_gap": null,
            "grid_row": null,
            "grid_template_areas": null,
            "grid_template_columns": null,
            "grid_template_rows": null,
            "height": null,
            "justify_content": null,
            "justify_items": null,
            "left": null,
            "margin": null,
            "max_height": null,
            "max_width": null,
            "min_height": null,
            "min_width": null,
            "object_fit": null,
            "object_position": null,
            "order": null,
            "overflow": null,
            "overflow_x": null,
            "overflow_y": null,
            "padding": null,
            "right": null,
            "top": null,
            "visibility": null,
            "width": null
          }
        },
        "21581eded0da41d3af678998fb5f8cfe": {
          "model_module": "@jupyter-widgets/base",
          "model_name": "LayoutModel",
          "model_module_version": "1.2.0",
          "state": {
            "_model_module": "@jupyter-widgets/base",
            "_model_module_version": "1.2.0",
            "_model_name": "LayoutModel",
            "_view_count": null,
            "_view_module": "@jupyter-widgets/base",
            "_view_module_version": "1.2.0",
            "_view_name": "LayoutView",
            "align_content": null,
            "align_items": null,
            "align_self": null,
            "border": null,
            "bottom": null,
            "display": null,
            "flex": null,
            "flex_flow": null,
            "grid_area": null,
            "grid_auto_columns": null,
            "grid_auto_flow": null,
            "grid_auto_rows": null,
            "grid_column": null,
            "grid_gap": null,
            "grid_row": null,
            "grid_template_areas": null,
            "grid_template_columns": null,
            "grid_template_rows": null,
            "height": null,
            "justify_content": null,
            "justify_items": null,
            "left": null,
            "margin": null,
            "max_height": null,
            "max_width": null,
            "min_height": null,
            "min_width": null,
            "object_fit": null,
            "object_position": null,
            "order": null,
            "overflow": null,
            "overflow_x": null,
            "overflow_y": null,
            "padding": null,
            "right": null,
            "top": null,
            "visibility": null,
            "width": null
          }
        },
        "954fe576329f420f90e340ff2d98ee5b": {
          "model_module": "@jupyter-widgets/controls",
          "model_name": "DescriptionStyleModel",
          "model_module_version": "1.5.0",
          "state": {
            "_model_module": "@jupyter-widgets/controls",
            "_model_module_version": "1.5.0",
            "_model_name": "DescriptionStyleModel",
            "_view_count": null,
            "_view_module": "@jupyter-widgets/base",
            "_view_module_version": "1.2.0",
            "_view_name": "StyleView",
            "description_width": ""
          }
        },
        "edd0be65a83e4b87abe5c9f2375a0275": {
          "model_module": "@jupyter-widgets/base",
          "model_name": "LayoutModel",
          "model_module_version": "1.2.0",
          "state": {
            "_model_module": "@jupyter-widgets/base",
            "_model_module_version": "1.2.0",
            "_model_name": "LayoutModel",
            "_view_count": null,
            "_view_module": "@jupyter-widgets/base",
            "_view_module_version": "1.2.0",
            "_view_name": "LayoutView",
            "align_content": null,
            "align_items": null,
            "align_self": null,
            "border": null,
            "bottom": null,
            "display": null,
            "flex": null,
            "flex_flow": null,
            "grid_area": null,
            "grid_auto_columns": null,
            "grid_auto_flow": null,
            "grid_auto_rows": null,
            "grid_column": null,
            "grid_gap": null,
            "grid_row": null,
            "grid_template_areas": null,
            "grid_template_columns": null,
            "grid_template_rows": null,
            "height": null,
            "justify_content": null,
            "justify_items": null,
            "left": null,
            "margin": null,
            "max_height": null,
            "max_width": null,
            "min_height": null,
            "min_width": null,
            "object_fit": null,
            "object_position": null,
            "order": null,
            "overflow": null,
            "overflow_x": null,
            "overflow_y": null,
            "padding": null,
            "right": null,
            "top": null,
            "visibility": null,
            "width": null
          }
        },
        "34134c1b8199479ba87124b989111771": {
          "model_module": "@jupyter-widgets/controls",
          "model_name": "ProgressStyleModel",
          "model_module_version": "1.5.0",
          "state": {
            "_model_module": "@jupyter-widgets/controls",
            "_model_module_version": "1.5.0",
            "_model_name": "ProgressStyleModel",
            "_view_count": null,
            "_view_module": "@jupyter-widgets/base",
            "_view_module_version": "1.2.0",
            "_view_name": "StyleView",
            "bar_color": null,
            "description_width": ""
          }
        },
        "4803ea4145314ebfb05e03ff0525e0fe": {
          "model_module": "@jupyter-widgets/base",
          "model_name": "LayoutModel",
          "model_module_version": "1.2.0",
          "state": {
            "_model_module": "@jupyter-widgets/base",
            "_model_module_version": "1.2.0",
            "_model_name": "LayoutModel",
            "_view_count": null,
            "_view_module": "@jupyter-widgets/base",
            "_view_module_version": "1.2.0",
            "_view_name": "LayoutView",
            "align_content": null,
            "align_items": null,
            "align_self": null,
            "border": null,
            "bottom": null,
            "display": null,
            "flex": null,
            "flex_flow": null,
            "grid_area": null,
            "grid_auto_columns": null,
            "grid_auto_flow": null,
            "grid_auto_rows": null,
            "grid_column": null,
            "grid_gap": null,
            "grid_row": null,
            "grid_template_areas": null,
            "grid_template_columns": null,
            "grid_template_rows": null,
            "height": null,
            "justify_content": null,
            "justify_items": null,
            "left": null,
            "margin": null,
            "max_height": null,
            "max_width": null,
            "min_height": null,
            "min_width": null,
            "object_fit": null,
            "object_position": null,
            "order": null,
            "overflow": null,
            "overflow_x": null,
            "overflow_y": null,
            "padding": null,
            "right": null,
            "top": null,
            "visibility": null,
            "width": null
          }
        },
        "6818c0d4658148f59152b61305c50a9a": {
          "model_module": "@jupyter-widgets/controls",
          "model_name": "DescriptionStyleModel",
          "model_module_version": "1.5.0",
          "state": {
            "_model_module": "@jupyter-widgets/controls",
            "_model_module_version": "1.5.0",
            "_model_name": "DescriptionStyleModel",
            "_view_count": null,
            "_view_module": "@jupyter-widgets/base",
            "_view_module_version": "1.2.0",
            "_view_name": "StyleView",
            "description_width": ""
          }
        },
        "d00d03ba526b4449b8c2fa1c7b5e95fa": {
          "model_module": "@jupyter-widgets/controls",
          "model_name": "HBoxModel",
          "model_module_version": "1.5.0",
          "state": {
            "_dom_classes": [],
            "_model_module": "@jupyter-widgets/controls",
            "_model_module_version": "1.5.0",
            "_model_name": "HBoxModel",
            "_view_count": null,
            "_view_module": "@jupyter-widgets/controls",
            "_view_module_version": "1.5.0",
            "_view_name": "HBoxView",
            "box_style": "",
            "children": [
              "IPY_MODEL_5afb508ce28f4241b6ea773d030fe061",
              "IPY_MODEL_3a16a73a267c4e998c16fad2092ed52d",
              "IPY_MODEL_5bad580c8bf244fc9e34b5d1686c84c1"
            ],
            "layout": "IPY_MODEL_200bb3fbca1945c8a21bd391cc87ce8c"
          }
        },
        "5afb508ce28f4241b6ea773d030fe061": {
          "model_module": "@jupyter-widgets/controls",
          "model_name": "HTMLModel",
          "model_module_version": "1.5.0",
          "state": {
            "_dom_classes": [],
            "_model_module": "@jupyter-widgets/controls",
            "_model_module_version": "1.5.0",
            "_model_name": "HTMLModel",
            "_view_count": null,
            "_view_module": "@jupyter-widgets/controls",
            "_view_module_version": "1.5.0",
            "_view_name": "HTMLView",
            "description": "",
            "description_tooltip": null,
            "layout": "IPY_MODEL_a8f342faad944ea8905c3714dbc9a63a",
            "placeholder": "​",
            "style": "IPY_MODEL_2208edcf5fee4d7d93f01a0a83248ebe",
            "value": "100%"
          }
        },
        "3a16a73a267c4e998c16fad2092ed52d": {
          "model_module": "@jupyter-widgets/controls",
          "model_name": "FloatProgressModel",
          "model_module_version": "1.5.0",
          "state": {
            "_dom_classes": [],
            "_model_module": "@jupyter-widgets/controls",
            "_model_module_version": "1.5.0",
            "_model_name": "FloatProgressModel",
            "_view_count": null,
            "_view_module": "@jupyter-widgets/controls",
            "_view_module_version": "1.5.0",
            "_view_name": "ProgressView",
            "bar_style": "success",
            "description": "",
            "description_tooltip": null,
            "layout": "IPY_MODEL_42c6d9ce8db64d108fdad814d9dfc38b",
            "max": 161,
            "min": 0,
            "orientation": "horizontal",
            "style": "IPY_MODEL_a2fcc767908b45138f3a90a4d012d67b",
            "value": 161
          }
        },
        "5bad580c8bf244fc9e34b5d1686c84c1": {
          "model_module": "@jupyter-widgets/controls",
          "model_name": "HTMLModel",
          "model_module_version": "1.5.0",
          "state": {
            "_dom_classes": [],
            "_model_module": "@jupyter-widgets/controls",
            "_model_module_version": "1.5.0",
            "_model_name": "HTMLModel",
            "_view_count": null,
            "_view_module": "@jupyter-widgets/controls",
            "_view_module_version": "1.5.0",
            "_view_name": "HTMLView",
            "description": "",
            "description_tooltip": null,
            "layout": "IPY_MODEL_bc420891fca84bf3ab37f25185c52e41",
            "placeholder": "​",
            "style": "IPY_MODEL_92fdc3d4ee294ba1ac618630cf2f85a1",
            "value": " 161/161 [00:00&lt;00:00, 284.02it/s]"
          }
        },
        "200bb3fbca1945c8a21bd391cc87ce8c": {
          "model_module": "@jupyter-widgets/base",
          "model_name": "LayoutModel",
          "model_module_version": "1.2.0",
          "state": {
            "_model_module": "@jupyter-widgets/base",
            "_model_module_version": "1.2.0",
            "_model_name": "LayoutModel",
            "_view_count": null,
            "_view_module": "@jupyter-widgets/base",
            "_view_module_version": "1.2.0",
            "_view_name": "LayoutView",
            "align_content": null,
            "align_items": null,
            "align_self": null,
            "border": null,
            "bottom": null,
            "display": null,
            "flex": null,
            "flex_flow": null,
            "grid_area": null,
            "grid_auto_columns": null,
            "grid_auto_flow": null,
            "grid_auto_rows": null,
            "grid_column": null,
            "grid_gap": null,
            "grid_row": null,
            "grid_template_areas": null,
            "grid_template_columns": null,
            "grid_template_rows": null,
            "height": null,
            "justify_content": null,
            "justify_items": null,
            "left": null,
            "margin": null,
            "max_height": null,
            "max_width": null,
            "min_height": null,
            "min_width": null,
            "object_fit": null,
            "object_position": null,
            "order": null,
            "overflow": null,
            "overflow_x": null,
            "overflow_y": null,
            "padding": null,
            "right": null,
            "top": null,
            "visibility": null,
            "width": null
          }
        },
        "a8f342faad944ea8905c3714dbc9a63a": {
          "model_module": "@jupyter-widgets/base",
          "model_name": "LayoutModel",
          "model_module_version": "1.2.0",
          "state": {
            "_model_module": "@jupyter-widgets/base",
            "_model_module_version": "1.2.0",
            "_model_name": "LayoutModel",
            "_view_count": null,
            "_view_module": "@jupyter-widgets/base",
            "_view_module_version": "1.2.0",
            "_view_name": "LayoutView",
            "align_content": null,
            "align_items": null,
            "align_self": null,
            "border": null,
            "bottom": null,
            "display": null,
            "flex": null,
            "flex_flow": null,
            "grid_area": null,
            "grid_auto_columns": null,
            "grid_auto_flow": null,
            "grid_auto_rows": null,
            "grid_column": null,
            "grid_gap": null,
            "grid_row": null,
            "grid_template_areas": null,
            "grid_template_columns": null,
            "grid_template_rows": null,
            "height": null,
            "justify_content": null,
            "justify_items": null,
            "left": null,
            "margin": null,
            "max_height": null,
            "max_width": null,
            "min_height": null,
            "min_width": null,
            "object_fit": null,
            "object_position": null,
            "order": null,
            "overflow": null,
            "overflow_x": null,
            "overflow_y": null,
            "padding": null,
            "right": null,
            "top": null,
            "visibility": null,
            "width": null
          }
        },
        "2208edcf5fee4d7d93f01a0a83248ebe": {
          "model_module": "@jupyter-widgets/controls",
          "model_name": "DescriptionStyleModel",
          "model_module_version": "1.5.0",
          "state": {
            "_model_module": "@jupyter-widgets/controls",
            "_model_module_version": "1.5.0",
            "_model_name": "DescriptionStyleModel",
            "_view_count": null,
            "_view_module": "@jupyter-widgets/base",
            "_view_module_version": "1.2.0",
            "_view_name": "StyleView",
            "description_width": ""
          }
        },
        "42c6d9ce8db64d108fdad814d9dfc38b": {
          "model_module": "@jupyter-widgets/base",
          "model_name": "LayoutModel",
          "model_module_version": "1.2.0",
          "state": {
            "_model_module": "@jupyter-widgets/base",
            "_model_module_version": "1.2.0",
            "_model_name": "LayoutModel",
            "_view_count": null,
            "_view_module": "@jupyter-widgets/base",
            "_view_module_version": "1.2.0",
            "_view_name": "LayoutView",
            "align_content": null,
            "align_items": null,
            "align_self": null,
            "border": null,
            "bottom": null,
            "display": null,
            "flex": null,
            "flex_flow": null,
            "grid_area": null,
            "grid_auto_columns": null,
            "grid_auto_flow": null,
            "grid_auto_rows": null,
            "grid_column": null,
            "grid_gap": null,
            "grid_row": null,
            "grid_template_areas": null,
            "grid_template_columns": null,
            "grid_template_rows": null,
            "height": null,
            "justify_content": null,
            "justify_items": null,
            "left": null,
            "margin": null,
            "max_height": null,
            "max_width": null,
            "min_height": null,
            "min_width": null,
            "object_fit": null,
            "object_position": null,
            "order": null,
            "overflow": null,
            "overflow_x": null,
            "overflow_y": null,
            "padding": null,
            "right": null,
            "top": null,
            "visibility": null,
            "width": null
          }
        },
        "a2fcc767908b45138f3a90a4d012d67b": {
          "model_module": "@jupyter-widgets/controls",
          "model_name": "ProgressStyleModel",
          "model_module_version": "1.5.0",
          "state": {
            "_model_module": "@jupyter-widgets/controls",
            "_model_module_version": "1.5.0",
            "_model_name": "ProgressStyleModel",
            "_view_count": null,
            "_view_module": "@jupyter-widgets/base",
            "_view_module_version": "1.2.0",
            "_view_name": "StyleView",
            "bar_color": null,
            "description_width": ""
          }
        },
        "bc420891fca84bf3ab37f25185c52e41": {
          "model_module": "@jupyter-widgets/base",
          "model_name": "LayoutModel",
          "model_module_version": "1.2.0",
          "state": {
            "_model_module": "@jupyter-widgets/base",
            "_model_module_version": "1.2.0",
            "_model_name": "LayoutModel",
            "_view_count": null,
            "_view_module": "@jupyter-widgets/base",
            "_view_module_version": "1.2.0",
            "_view_name": "LayoutView",
            "align_content": null,
            "align_items": null,
            "align_self": null,
            "border": null,
            "bottom": null,
            "display": null,
            "flex": null,
            "flex_flow": null,
            "grid_area": null,
            "grid_auto_columns": null,
            "grid_auto_flow": null,
            "grid_auto_rows": null,
            "grid_column": null,
            "grid_gap": null,
            "grid_row": null,
            "grid_template_areas": null,
            "grid_template_columns": null,
            "grid_template_rows": null,
            "height": null,
            "justify_content": null,
            "justify_items": null,
            "left": null,
            "margin": null,
            "max_height": null,
            "max_width": null,
            "min_height": null,
            "min_width": null,
            "object_fit": null,
            "object_position": null,
            "order": null,
            "overflow": null,
            "overflow_x": null,
            "overflow_y": null,
            "padding": null,
            "right": null,
            "top": null,
            "visibility": null,
            "width": null
          }
        },
        "92fdc3d4ee294ba1ac618630cf2f85a1": {
          "model_module": "@jupyter-widgets/controls",
          "model_name": "DescriptionStyleModel",
          "model_module_version": "1.5.0",
          "state": {
            "_model_module": "@jupyter-widgets/controls",
            "_model_module_version": "1.5.0",
            "_model_name": "DescriptionStyleModel",
            "_view_count": null,
            "_view_module": "@jupyter-widgets/base",
            "_view_module_version": "1.2.0",
            "_view_name": "StyleView",
            "description_width": ""
          }
        },
        "96c0026d8f5e441ca2ef2aa8a610c629": {
          "model_module": "@jupyter-widgets/controls",
          "model_name": "HBoxModel",
          "model_module_version": "1.5.0",
          "state": {
            "_dom_classes": [],
            "_model_module": "@jupyter-widgets/controls",
            "_model_module_version": "1.5.0",
            "_model_name": "HBoxModel",
            "_view_count": null,
            "_view_module": "@jupyter-widgets/controls",
            "_view_module_version": "1.5.0",
            "_view_name": "HBoxView",
            "box_style": "",
            "children": [
              "IPY_MODEL_94eac193560d406895443e719b926afb",
              "IPY_MODEL_f016c67d6b604f84b862263e68eaa82b",
              "IPY_MODEL_421bb3e0f77d4981ba4ed2581350b250"
            ],
            "layout": "IPY_MODEL_1e529021aca24988a940529fd5058447"
          }
        },
        "94eac193560d406895443e719b926afb": {
          "model_module": "@jupyter-widgets/controls",
          "model_name": "HTMLModel",
          "model_module_version": "1.5.0",
          "state": {
            "_dom_classes": [],
            "_model_module": "@jupyter-widgets/controls",
            "_model_module_version": "1.5.0",
            "_model_name": "HTMLModel",
            "_view_count": null,
            "_view_module": "@jupyter-widgets/controls",
            "_view_module_version": "1.5.0",
            "_view_name": "HTMLView",
            "description": "",
            "description_tooltip": null,
            "layout": "IPY_MODEL_ffe4208687674547869a83cfc9ed02d0",
            "placeholder": "​",
            "style": "IPY_MODEL_628ecdc1d1c441459ca1b9e5429ebe07",
            "value": "100%"
          }
        },
        "f016c67d6b604f84b862263e68eaa82b": {
          "model_module": "@jupyter-widgets/controls",
          "model_name": "FloatProgressModel",
          "model_module_version": "1.5.0",
          "state": {
            "_dom_classes": [],
            "_model_module": "@jupyter-widgets/controls",
            "_model_module_version": "1.5.0",
            "_model_name": "FloatProgressModel",
            "_view_count": null,
            "_view_module": "@jupyter-widgets/controls",
            "_view_module_version": "1.5.0",
            "_view_name": "ProgressView",
            "bar_style": "success",
            "description": "",
            "description_tooltip": null,
            "layout": "IPY_MODEL_491fd6c25bc1483fa1ecf6dd469dd93c",
            "max": 161,
            "min": 0,
            "orientation": "horizontal",
            "style": "IPY_MODEL_a92d4eee84ea467584a5bddc3c4c93b7",
            "value": 161
          }
        },
        "421bb3e0f77d4981ba4ed2581350b250": {
          "model_module": "@jupyter-widgets/controls",
          "model_name": "HTMLModel",
          "model_module_version": "1.5.0",
          "state": {
            "_dom_classes": [],
            "_model_module": "@jupyter-widgets/controls",
            "_model_module_version": "1.5.0",
            "_model_name": "HTMLModel",
            "_view_count": null,
            "_view_module": "@jupyter-widgets/controls",
            "_view_module_version": "1.5.0",
            "_view_name": "HTMLView",
            "description": "",
            "description_tooltip": null,
            "layout": "IPY_MODEL_1fc2998003704c5fa6982d90f1e05685",
            "placeholder": "​",
            "style": "IPY_MODEL_b6e1fa1ec0f84714b527254792851df9",
            "value": " 161/161 [00:00&lt;00:00, 281.18it/s]"
          }
        },
        "1e529021aca24988a940529fd5058447": {
          "model_module": "@jupyter-widgets/base",
          "model_name": "LayoutModel",
          "model_module_version": "1.2.0",
          "state": {
            "_model_module": "@jupyter-widgets/base",
            "_model_module_version": "1.2.0",
            "_model_name": "LayoutModel",
            "_view_count": null,
            "_view_module": "@jupyter-widgets/base",
            "_view_module_version": "1.2.0",
            "_view_name": "LayoutView",
            "align_content": null,
            "align_items": null,
            "align_self": null,
            "border": null,
            "bottom": null,
            "display": null,
            "flex": null,
            "flex_flow": null,
            "grid_area": null,
            "grid_auto_columns": null,
            "grid_auto_flow": null,
            "grid_auto_rows": null,
            "grid_column": null,
            "grid_gap": null,
            "grid_row": null,
            "grid_template_areas": null,
            "grid_template_columns": null,
            "grid_template_rows": null,
            "height": null,
            "justify_content": null,
            "justify_items": null,
            "left": null,
            "margin": null,
            "max_height": null,
            "max_width": null,
            "min_height": null,
            "min_width": null,
            "object_fit": null,
            "object_position": null,
            "order": null,
            "overflow": null,
            "overflow_x": null,
            "overflow_y": null,
            "padding": null,
            "right": null,
            "top": null,
            "visibility": null,
            "width": null
          }
        },
        "ffe4208687674547869a83cfc9ed02d0": {
          "model_module": "@jupyter-widgets/base",
          "model_name": "LayoutModel",
          "model_module_version": "1.2.0",
          "state": {
            "_model_module": "@jupyter-widgets/base",
            "_model_module_version": "1.2.0",
            "_model_name": "LayoutModel",
            "_view_count": null,
            "_view_module": "@jupyter-widgets/base",
            "_view_module_version": "1.2.0",
            "_view_name": "LayoutView",
            "align_content": null,
            "align_items": null,
            "align_self": null,
            "border": null,
            "bottom": null,
            "display": null,
            "flex": null,
            "flex_flow": null,
            "grid_area": null,
            "grid_auto_columns": null,
            "grid_auto_flow": null,
            "grid_auto_rows": null,
            "grid_column": null,
            "grid_gap": null,
            "grid_row": null,
            "grid_template_areas": null,
            "grid_template_columns": null,
            "grid_template_rows": null,
            "height": null,
            "justify_content": null,
            "justify_items": null,
            "left": null,
            "margin": null,
            "max_height": null,
            "max_width": null,
            "min_height": null,
            "min_width": null,
            "object_fit": null,
            "object_position": null,
            "order": null,
            "overflow": null,
            "overflow_x": null,
            "overflow_y": null,
            "padding": null,
            "right": null,
            "top": null,
            "visibility": null,
            "width": null
          }
        },
        "628ecdc1d1c441459ca1b9e5429ebe07": {
          "model_module": "@jupyter-widgets/controls",
          "model_name": "DescriptionStyleModel",
          "model_module_version": "1.5.0",
          "state": {
            "_model_module": "@jupyter-widgets/controls",
            "_model_module_version": "1.5.0",
            "_model_name": "DescriptionStyleModel",
            "_view_count": null,
            "_view_module": "@jupyter-widgets/base",
            "_view_module_version": "1.2.0",
            "_view_name": "StyleView",
            "description_width": ""
          }
        },
        "491fd6c25bc1483fa1ecf6dd469dd93c": {
          "model_module": "@jupyter-widgets/base",
          "model_name": "LayoutModel",
          "model_module_version": "1.2.0",
          "state": {
            "_model_module": "@jupyter-widgets/base",
            "_model_module_version": "1.2.0",
            "_model_name": "LayoutModel",
            "_view_count": null,
            "_view_module": "@jupyter-widgets/base",
            "_view_module_version": "1.2.0",
            "_view_name": "LayoutView",
            "align_content": null,
            "align_items": null,
            "align_self": null,
            "border": null,
            "bottom": null,
            "display": null,
            "flex": null,
            "flex_flow": null,
            "grid_area": null,
            "grid_auto_columns": null,
            "grid_auto_flow": null,
            "grid_auto_rows": null,
            "grid_column": null,
            "grid_gap": null,
            "grid_row": null,
            "grid_template_areas": null,
            "grid_template_columns": null,
            "grid_template_rows": null,
            "height": null,
            "justify_content": null,
            "justify_items": null,
            "left": null,
            "margin": null,
            "max_height": null,
            "max_width": null,
            "min_height": null,
            "min_width": null,
            "object_fit": null,
            "object_position": null,
            "order": null,
            "overflow": null,
            "overflow_x": null,
            "overflow_y": null,
            "padding": null,
            "right": null,
            "top": null,
            "visibility": null,
            "width": null
          }
        },
        "a92d4eee84ea467584a5bddc3c4c93b7": {
          "model_module": "@jupyter-widgets/controls",
          "model_name": "ProgressStyleModel",
          "model_module_version": "1.5.0",
          "state": {
            "_model_module": "@jupyter-widgets/controls",
            "_model_module_version": "1.5.0",
            "_model_name": "ProgressStyleModel",
            "_view_count": null,
            "_view_module": "@jupyter-widgets/base",
            "_view_module_version": "1.2.0",
            "_view_name": "StyleView",
            "bar_color": null,
            "description_width": ""
          }
        },
        "1fc2998003704c5fa6982d90f1e05685": {
          "model_module": "@jupyter-widgets/base",
          "model_name": "LayoutModel",
          "model_module_version": "1.2.0",
          "state": {
            "_model_module": "@jupyter-widgets/base",
            "_model_module_version": "1.2.0",
            "_model_name": "LayoutModel",
            "_view_count": null,
            "_view_module": "@jupyter-widgets/base",
            "_view_module_version": "1.2.0",
            "_view_name": "LayoutView",
            "align_content": null,
            "align_items": null,
            "align_self": null,
            "border": null,
            "bottom": null,
            "display": null,
            "flex": null,
            "flex_flow": null,
            "grid_area": null,
            "grid_auto_columns": null,
            "grid_auto_flow": null,
            "grid_auto_rows": null,
            "grid_column": null,
            "grid_gap": null,
            "grid_row": null,
            "grid_template_areas": null,
            "grid_template_columns": null,
            "grid_template_rows": null,
            "height": null,
            "justify_content": null,
            "justify_items": null,
            "left": null,
            "margin": null,
            "max_height": null,
            "max_width": null,
            "min_height": null,
            "min_width": null,
            "object_fit": null,
            "object_position": null,
            "order": null,
            "overflow": null,
            "overflow_x": null,
            "overflow_y": null,
            "padding": null,
            "right": null,
            "top": null,
            "visibility": null,
            "width": null
          }
        },
        "b6e1fa1ec0f84714b527254792851df9": {
          "model_module": "@jupyter-widgets/controls",
          "model_name": "DescriptionStyleModel",
          "model_module_version": "1.5.0",
          "state": {
            "_model_module": "@jupyter-widgets/controls",
            "_model_module_version": "1.5.0",
            "_model_name": "DescriptionStyleModel",
            "_view_count": null,
            "_view_module": "@jupyter-widgets/base",
            "_view_module_version": "1.2.0",
            "_view_name": "StyleView",
            "description_width": ""
          }
        },
        "4c90f85acc6845e69008dc48405c164d": {
          "model_module": "@jupyter-widgets/controls",
          "model_name": "HBoxModel",
          "model_module_version": "1.5.0",
          "state": {
            "_dom_classes": [],
            "_model_module": "@jupyter-widgets/controls",
            "_model_module_version": "1.5.0",
            "_model_name": "HBoxModel",
            "_view_count": null,
            "_view_module": "@jupyter-widgets/controls",
            "_view_module_version": "1.5.0",
            "_view_name": "HBoxView",
            "box_style": "",
            "children": [
              "IPY_MODEL_023d6b0d696d4dc3ac686df4db1407ae",
              "IPY_MODEL_e10836b90d8442798693742587fdf6e5",
              "IPY_MODEL_3fc921287c27432186e52feed4b5253c"
            ],
            "layout": "IPY_MODEL_36b6e80b121141239afa6f4a3a21fffc"
          }
        },
        "023d6b0d696d4dc3ac686df4db1407ae": {
          "model_module": "@jupyter-widgets/controls",
          "model_name": "HTMLModel",
          "model_module_version": "1.5.0",
          "state": {
            "_dom_classes": [],
            "_model_module": "@jupyter-widgets/controls",
            "_model_module_version": "1.5.0",
            "_model_name": "HTMLModel",
            "_view_count": null,
            "_view_module": "@jupyter-widgets/controls",
            "_view_module_version": "1.5.0",
            "_view_name": "HTMLView",
            "description": "",
            "description_tooltip": null,
            "layout": "IPY_MODEL_e274db0764c34f76a80baad201277545",
            "placeholder": "​",
            "style": "IPY_MODEL_2b6cdebc440047719f5b6b37434284b6",
            "value": "100%"
          }
        },
        "e10836b90d8442798693742587fdf6e5": {
          "model_module": "@jupyter-widgets/controls",
          "model_name": "FloatProgressModel",
          "model_module_version": "1.5.0",
          "state": {
            "_dom_classes": [],
            "_model_module": "@jupyter-widgets/controls",
            "_model_module_version": "1.5.0",
            "_model_name": "FloatProgressModel",
            "_view_count": null,
            "_view_module": "@jupyter-widgets/controls",
            "_view_module_version": "1.5.0",
            "_view_name": "ProgressView",
            "bar_style": "success",
            "description": "",
            "description_tooltip": null,
            "layout": "IPY_MODEL_2b18d303361b44a39425cd742556f021",
            "max": 161,
            "min": 0,
            "orientation": "horizontal",
            "style": "IPY_MODEL_a2ba3a78ca464392a5b54b0530673ce3",
            "value": 161
          }
        },
        "3fc921287c27432186e52feed4b5253c": {
          "model_module": "@jupyter-widgets/controls",
          "model_name": "HTMLModel",
          "model_module_version": "1.5.0",
          "state": {
            "_dom_classes": [],
            "_model_module": "@jupyter-widgets/controls",
            "_model_module_version": "1.5.0",
            "_model_name": "HTMLModel",
            "_view_count": null,
            "_view_module": "@jupyter-widgets/controls",
            "_view_module_version": "1.5.0",
            "_view_name": "HTMLView",
            "description": "",
            "description_tooltip": null,
            "layout": "IPY_MODEL_a2edac68b76d4d6db9de009b7b3e8050",
            "placeholder": "​",
            "style": "IPY_MODEL_10a3de14e5ce4e719c3fb1c858913d50",
            "value": " 161/161 [00:00&lt;00:00, 261.51it/s]"
          }
        },
        "36b6e80b121141239afa6f4a3a21fffc": {
          "model_module": "@jupyter-widgets/base",
          "model_name": "LayoutModel",
          "model_module_version": "1.2.0",
          "state": {
            "_model_module": "@jupyter-widgets/base",
            "_model_module_version": "1.2.0",
            "_model_name": "LayoutModel",
            "_view_count": null,
            "_view_module": "@jupyter-widgets/base",
            "_view_module_version": "1.2.0",
            "_view_name": "LayoutView",
            "align_content": null,
            "align_items": null,
            "align_self": null,
            "border": null,
            "bottom": null,
            "display": null,
            "flex": null,
            "flex_flow": null,
            "grid_area": null,
            "grid_auto_columns": null,
            "grid_auto_flow": null,
            "grid_auto_rows": null,
            "grid_column": null,
            "grid_gap": null,
            "grid_row": null,
            "grid_template_areas": null,
            "grid_template_columns": null,
            "grid_template_rows": null,
            "height": null,
            "justify_content": null,
            "justify_items": null,
            "left": null,
            "margin": null,
            "max_height": null,
            "max_width": null,
            "min_height": null,
            "min_width": null,
            "object_fit": null,
            "object_position": null,
            "order": null,
            "overflow": null,
            "overflow_x": null,
            "overflow_y": null,
            "padding": null,
            "right": null,
            "top": null,
            "visibility": null,
            "width": null
          }
        },
        "e274db0764c34f76a80baad201277545": {
          "model_module": "@jupyter-widgets/base",
          "model_name": "LayoutModel",
          "model_module_version": "1.2.0",
          "state": {
            "_model_module": "@jupyter-widgets/base",
            "_model_module_version": "1.2.0",
            "_model_name": "LayoutModel",
            "_view_count": null,
            "_view_module": "@jupyter-widgets/base",
            "_view_module_version": "1.2.0",
            "_view_name": "LayoutView",
            "align_content": null,
            "align_items": null,
            "align_self": null,
            "border": null,
            "bottom": null,
            "display": null,
            "flex": null,
            "flex_flow": null,
            "grid_area": null,
            "grid_auto_columns": null,
            "grid_auto_flow": null,
            "grid_auto_rows": null,
            "grid_column": null,
            "grid_gap": null,
            "grid_row": null,
            "grid_template_areas": null,
            "grid_template_columns": null,
            "grid_template_rows": null,
            "height": null,
            "justify_content": null,
            "justify_items": null,
            "left": null,
            "margin": null,
            "max_height": null,
            "max_width": null,
            "min_height": null,
            "min_width": null,
            "object_fit": null,
            "object_position": null,
            "order": null,
            "overflow": null,
            "overflow_x": null,
            "overflow_y": null,
            "padding": null,
            "right": null,
            "top": null,
            "visibility": null,
            "width": null
          }
        },
        "2b6cdebc440047719f5b6b37434284b6": {
          "model_module": "@jupyter-widgets/controls",
          "model_name": "DescriptionStyleModel",
          "model_module_version": "1.5.0",
          "state": {
            "_model_module": "@jupyter-widgets/controls",
            "_model_module_version": "1.5.0",
            "_model_name": "DescriptionStyleModel",
            "_view_count": null,
            "_view_module": "@jupyter-widgets/base",
            "_view_module_version": "1.2.0",
            "_view_name": "StyleView",
            "description_width": ""
          }
        },
        "2b18d303361b44a39425cd742556f021": {
          "model_module": "@jupyter-widgets/base",
          "model_name": "LayoutModel",
          "model_module_version": "1.2.0",
          "state": {
            "_model_module": "@jupyter-widgets/base",
            "_model_module_version": "1.2.0",
            "_model_name": "LayoutModel",
            "_view_count": null,
            "_view_module": "@jupyter-widgets/base",
            "_view_module_version": "1.2.0",
            "_view_name": "LayoutView",
            "align_content": null,
            "align_items": null,
            "align_self": null,
            "border": null,
            "bottom": null,
            "display": null,
            "flex": null,
            "flex_flow": null,
            "grid_area": null,
            "grid_auto_columns": null,
            "grid_auto_flow": null,
            "grid_auto_rows": null,
            "grid_column": null,
            "grid_gap": null,
            "grid_row": null,
            "grid_template_areas": null,
            "grid_template_columns": null,
            "grid_template_rows": null,
            "height": null,
            "justify_content": null,
            "justify_items": null,
            "left": null,
            "margin": null,
            "max_height": null,
            "max_width": null,
            "min_height": null,
            "min_width": null,
            "object_fit": null,
            "object_position": null,
            "order": null,
            "overflow": null,
            "overflow_x": null,
            "overflow_y": null,
            "padding": null,
            "right": null,
            "top": null,
            "visibility": null,
            "width": null
          }
        },
        "a2ba3a78ca464392a5b54b0530673ce3": {
          "model_module": "@jupyter-widgets/controls",
          "model_name": "ProgressStyleModel",
          "model_module_version": "1.5.0",
          "state": {
            "_model_module": "@jupyter-widgets/controls",
            "_model_module_version": "1.5.0",
            "_model_name": "ProgressStyleModel",
            "_view_count": null,
            "_view_module": "@jupyter-widgets/base",
            "_view_module_version": "1.2.0",
            "_view_name": "StyleView",
            "bar_color": null,
            "description_width": ""
          }
        },
        "a2edac68b76d4d6db9de009b7b3e8050": {
          "model_module": "@jupyter-widgets/base",
          "model_name": "LayoutModel",
          "model_module_version": "1.2.0",
          "state": {
            "_model_module": "@jupyter-widgets/base",
            "_model_module_version": "1.2.0",
            "_model_name": "LayoutModel",
            "_view_count": null,
            "_view_module": "@jupyter-widgets/base",
            "_view_module_version": "1.2.0",
            "_view_name": "LayoutView",
            "align_content": null,
            "align_items": null,
            "align_self": null,
            "border": null,
            "bottom": null,
            "display": null,
            "flex": null,
            "flex_flow": null,
            "grid_area": null,
            "grid_auto_columns": null,
            "grid_auto_flow": null,
            "grid_auto_rows": null,
            "grid_column": null,
            "grid_gap": null,
            "grid_row": null,
            "grid_template_areas": null,
            "grid_template_columns": null,
            "grid_template_rows": null,
            "height": null,
            "justify_content": null,
            "justify_items": null,
            "left": null,
            "margin": null,
            "max_height": null,
            "max_width": null,
            "min_height": null,
            "min_width": null,
            "object_fit": null,
            "object_position": null,
            "order": null,
            "overflow": null,
            "overflow_x": null,
            "overflow_y": null,
            "padding": null,
            "right": null,
            "top": null,
            "visibility": null,
            "width": null
          }
        },
        "10a3de14e5ce4e719c3fb1c858913d50": {
          "model_module": "@jupyter-widgets/controls",
          "model_name": "DescriptionStyleModel",
          "model_module_version": "1.5.0",
          "state": {
            "_model_module": "@jupyter-widgets/controls",
            "_model_module_version": "1.5.0",
            "_model_name": "DescriptionStyleModel",
            "_view_count": null,
            "_view_module": "@jupyter-widgets/base",
            "_view_module_version": "1.2.0",
            "_view_name": "StyleView",
            "description_width": ""
          }
        },
        "a7af30564556461781d2fea9842f5680": {
          "model_module": "@jupyter-widgets/controls",
          "model_name": "HBoxModel",
          "model_module_version": "1.5.0",
          "state": {
            "_dom_classes": [],
            "_model_module": "@jupyter-widgets/controls",
            "_model_module_version": "1.5.0",
            "_model_name": "HBoxModel",
            "_view_count": null,
            "_view_module": "@jupyter-widgets/controls",
            "_view_module_version": "1.5.0",
            "_view_name": "HBoxView",
            "box_style": "",
            "children": [
              "IPY_MODEL_2c8afb2d8da14cc19b136ed91acdb504",
              "IPY_MODEL_14d90bc6f7894c319c94ec97da821afd",
              "IPY_MODEL_af3c1402f30f4681b292175a9b6c6a8f"
            ],
            "layout": "IPY_MODEL_660b3a6b8b514b4f9b17ad43b963d056"
          }
        },
        "2c8afb2d8da14cc19b136ed91acdb504": {
          "model_module": "@jupyter-widgets/controls",
          "model_name": "HTMLModel",
          "model_module_version": "1.5.0",
          "state": {
            "_dom_classes": [],
            "_model_module": "@jupyter-widgets/controls",
            "_model_module_version": "1.5.0",
            "_model_name": "HTMLModel",
            "_view_count": null,
            "_view_module": "@jupyter-widgets/controls",
            "_view_module_version": "1.5.0",
            "_view_name": "HTMLView",
            "description": "",
            "description_tooltip": null,
            "layout": "IPY_MODEL_809657b90d0946a3b3e59584ea71e964",
            "placeholder": "​",
            "style": "IPY_MODEL_5551f7e6df8f44078c0657e3c197db14",
            "value": "100%"
          }
        },
        "14d90bc6f7894c319c94ec97da821afd": {
          "model_module": "@jupyter-widgets/controls",
          "model_name": "FloatProgressModel",
          "model_module_version": "1.5.0",
          "state": {
            "_dom_classes": [],
            "_model_module": "@jupyter-widgets/controls",
            "_model_module_version": "1.5.0",
            "_model_name": "FloatProgressModel",
            "_view_count": null,
            "_view_module": "@jupyter-widgets/controls",
            "_view_module_version": "1.5.0",
            "_view_name": "ProgressView",
            "bar_style": "success",
            "description": "",
            "description_tooltip": null,
            "layout": "IPY_MODEL_48e1eff59dd24257b1ba80f2bfb1bb4f",
            "max": 161,
            "min": 0,
            "orientation": "horizontal",
            "style": "IPY_MODEL_0101ba0100894632bb9a255995118b11",
            "value": 161
          }
        },
        "af3c1402f30f4681b292175a9b6c6a8f": {
          "model_module": "@jupyter-widgets/controls",
          "model_name": "HTMLModel",
          "model_module_version": "1.5.0",
          "state": {
            "_dom_classes": [],
            "_model_module": "@jupyter-widgets/controls",
            "_model_module_version": "1.5.0",
            "_model_name": "HTMLModel",
            "_view_count": null,
            "_view_module": "@jupyter-widgets/controls",
            "_view_module_version": "1.5.0",
            "_view_name": "HTMLView",
            "description": "",
            "description_tooltip": null,
            "layout": "IPY_MODEL_10dfba532e7e4fe99213eb12d33df5ed",
            "placeholder": "​",
            "style": "IPY_MODEL_0e025bea44e74ed19e4b9ad9378bb2a7",
            "value": " 161/161 [00:00&lt;00:00, 290.54it/s]"
          }
        },
        "660b3a6b8b514b4f9b17ad43b963d056": {
          "model_module": "@jupyter-widgets/base",
          "model_name": "LayoutModel",
          "model_module_version": "1.2.0",
          "state": {
            "_model_module": "@jupyter-widgets/base",
            "_model_module_version": "1.2.0",
            "_model_name": "LayoutModel",
            "_view_count": null,
            "_view_module": "@jupyter-widgets/base",
            "_view_module_version": "1.2.0",
            "_view_name": "LayoutView",
            "align_content": null,
            "align_items": null,
            "align_self": null,
            "border": null,
            "bottom": null,
            "display": null,
            "flex": null,
            "flex_flow": null,
            "grid_area": null,
            "grid_auto_columns": null,
            "grid_auto_flow": null,
            "grid_auto_rows": null,
            "grid_column": null,
            "grid_gap": null,
            "grid_row": null,
            "grid_template_areas": null,
            "grid_template_columns": null,
            "grid_template_rows": null,
            "height": null,
            "justify_content": null,
            "justify_items": null,
            "left": null,
            "margin": null,
            "max_height": null,
            "max_width": null,
            "min_height": null,
            "min_width": null,
            "object_fit": null,
            "object_position": null,
            "order": null,
            "overflow": null,
            "overflow_x": null,
            "overflow_y": null,
            "padding": null,
            "right": null,
            "top": null,
            "visibility": null,
            "width": null
          }
        },
        "809657b90d0946a3b3e59584ea71e964": {
          "model_module": "@jupyter-widgets/base",
          "model_name": "LayoutModel",
          "model_module_version": "1.2.0",
          "state": {
            "_model_module": "@jupyter-widgets/base",
            "_model_module_version": "1.2.0",
            "_model_name": "LayoutModel",
            "_view_count": null,
            "_view_module": "@jupyter-widgets/base",
            "_view_module_version": "1.2.0",
            "_view_name": "LayoutView",
            "align_content": null,
            "align_items": null,
            "align_self": null,
            "border": null,
            "bottom": null,
            "display": null,
            "flex": null,
            "flex_flow": null,
            "grid_area": null,
            "grid_auto_columns": null,
            "grid_auto_flow": null,
            "grid_auto_rows": null,
            "grid_column": null,
            "grid_gap": null,
            "grid_row": null,
            "grid_template_areas": null,
            "grid_template_columns": null,
            "grid_template_rows": null,
            "height": null,
            "justify_content": null,
            "justify_items": null,
            "left": null,
            "margin": null,
            "max_height": null,
            "max_width": null,
            "min_height": null,
            "min_width": null,
            "object_fit": null,
            "object_position": null,
            "order": null,
            "overflow": null,
            "overflow_x": null,
            "overflow_y": null,
            "padding": null,
            "right": null,
            "top": null,
            "visibility": null,
            "width": null
          }
        },
        "5551f7e6df8f44078c0657e3c197db14": {
          "model_module": "@jupyter-widgets/controls",
          "model_name": "DescriptionStyleModel",
          "model_module_version": "1.5.0",
          "state": {
            "_model_module": "@jupyter-widgets/controls",
            "_model_module_version": "1.5.0",
            "_model_name": "DescriptionStyleModel",
            "_view_count": null,
            "_view_module": "@jupyter-widgets/base",
            "_view_module_version": "1.2.0",
            "_view_name": "StyleView",
            "description_width": ""
          }
        },
        "48e1eff59dd24257b1ba80f2bfb1bb4f": {
          "model_module": "@jupyter-widgets/base",
          "model_name": "LayoutModel",
          "model_module_version": "1.2.0",
          "state": {
            "_model_module": "@jupyter-widgets/base",
            "_model_module_version": "1.2.0",
            "_model_name": "LayoutModel",
            "_view_count": null,
            "_view_module": "@jupyter-widgets/base",
            "_view_module_version": "1.2.0",
            "_view_name": "LayoutView",
            "align_content": null,
            "align_items": null,
            "align_self": null,
            "border": null,
            "bottom": null,
            "display": null,
            "flex": null,
            "flex_flow": null,
            "grid_area": null,
            "grid_auto_columns": null,
            "grid_auto_flow": null,
            "grid_auto_rows": null,
            "grid_column": null,
            "grid_gap": null,
            "grid_row": null,
            "grid_template_areas": null,
            "grid_template_columns": null,
            "grid_template_rows": null,
            "height": null,
            "justify_content": null,
            "justify_items": null,
            "left": null,
            "margin": null,
            "max_height": null,
            "max_width": null,
            "min_height": null,
            "min_width": null,
            "object_fit": null,
            "object_position": null,
            "order": null,
            "overflow": null,
            "overflow_x": null,
            "overflow_y": null,
            "padding": null,
            "right": null,
            "top": null,
            "visibility": null,
            "width": null
          }
        },
        "0101ba0100894632bb9a255995118b11": {
          "model_module": "@jupyter-widgets/controls",
          "model_name": "ProgressStyleModel",
          "model_module_version": "1.5.0",
          "state": {
            "_model_module": "@jupyter-widgets/controls",
            "_model_module_version": "1.5.0",
            "_model_name": "ProgressStyleModel",
            "_view_count": null,
            "_view_module": "@jupyter-widgets/base",
            "_view_module_version": "1.2.0",
            "_view_name": "StyleView",
            "bar_color": null,
            "description_width": ""
          }
        },
        "10dfba532e7e4fe99213eb12d33df5ed": {
          "model_module": "@jupyter-widgets/base",
          "model_name": "LayoutModel",
          "model_module_version": "1.2.0",
          "state": {
            "_model_module": "@jupyter-widgets/base",
            "_model_module_version": "1.2.0",
            "_model_name": "LayoutModel",
            "_view_count": null,
            "_view_module": "@jupyter-widgets/base",
            "_view_module_version": "1.2.0",
            "_view_name": "LayoutView",
            "align_content": null,
            "align_items": null,
            "align_self": null,
            "border": null,
            "bottom": null,
            "display": null,
            "flex": null,
            "flex_flow": null,
            "grid_area": null,
            "grid_auto_columns": null,
            "grid_auto_flow": null,
            "grid_auto_rows": null,
            "grid_column": null,
            "grid_gap": null,
            "grid_row": null,
            "grid_template_areas": null,
            "grid_template_columns": null,
            "grid_template_rows": null,
            "height": null,
            "justify_content": null,
            "justify_items": null,
            "left": null,
            "margin": null,
            "max_height": null,
            "max_width": null,
            "min_height": null,
            "min_width": null,
            "object_fit": null,
            "object_position": null,
            "order": null,
            "overflow": null,
            "overflow_x": null,
            "overflow_y": null,
            "padding": null,
            "right": null,
            "top": null,
            "visibility": null,
            "width": null
          }
        },
        "0e025bea44e74ed19e4b9ad9378bb2a7": {
          "model_module": "@jupyter-widgets/controls",
          "model_name": "DescriptionStyleModel",
          "model_module_version": "1.5.0",
          "state": {
            "_model_module": "@jupyter-widgets/controls",
            "_model_module_version": "1.5.0",
            "_model_name": "DescriptionStyleModel",
            "_view_count": null,
            "_view_module": "@jupyter-widgets/base",
            "_view_module_version": "1.2.0",
            "_view_name": "StyleView",
            "description_width": ""
          }
        }
      }
    },
    "accelerator": "GPU"
  },
  "cells": [
    {
      "cell_type": "code",
      "execution_count": 1,
      "metadata": {
        "id": "cB_wjvaWHx9K",
        "colab": {
          "base_uri": "https://localhost:8080/"
        },
        "outputId": "a536581a-fe32-4d81-e27f-957be4021292"
      },
      "outputs": [
        {
          "output_type": "stream",
          "name": "stdout",
          "text": [
            "\u001b[K     |████████████████████████████████| 74 kB 4.1 MB/s \n",
            "\u001b[K     |████████████████████████████████| 1.6 MB 54.5 MB/s \n",
            "\u001b[?25h"
          ]
        }
      ],
      "source": [
        "!pip install neuralprophet -q\n",
        "!pip install prophet -q"
      ]
    },
    {
      "cell_type": "markdown",
      "source": [
        "## Summary of Results\n",
        "\n",
        "LSTM performed the best after fine-tuning. Non-deep models may not perform as well due to the strong assumption of seasonality.\n",
        "\n",
        "| **Model** | **MAE** | **RMSE** |\n",
        "|---|---|---|\n",
        "| Neural Prophet (clipped test) | 77 | 92 |\n",
        "| Neural Prophet (non-clipped test) | 82 | 153 |\n",
        "| FB Prophet (clipped test) | 90 | 106 |\n",
        "| FB Prophet (non-clipped test) | 96 | 160 |\n",
        "| *LSTM (clipped test)*  | *71* | *88* |\n",
        "| LSTM (non-clipped train, clipped test) | 72 | 89 |"
      ],
      "metadata": {
        "id": "zjxJ8mXmeLRH"
      }
    },
    {
      "cell_type": "code",
      "source": [
        "import pandas as pd\n",
        "import numpy as np\n",
        "import seaborn as sb\n",
        "import matplotlib.pyplot as plt\n",
        "\n",
        "from neuralprophet import NeuralProphet\n",
        "from prophet import Prophet"
      ],
      "metadata": {
        "id": "Qg6nO5a-L920"
      },
      "execution_count": 2,
      "outputs": []
    },
    {
      "cell_type": "code",
      "source": [
        "def mae(x):\n",
        "  return np.mean(np.abs(x))\n",
        "\n",
        "def rmse(x):\n",
        "  return np.sqrt(np.mean(np.square(x)))"
      ],
      "metadata": {
        "id": "AGj1oNqEVWYy"
      },
      "execution_count": 34,
      "outputs": []
    },
    {
      "cell_type": "markdown",
      "source": [
        "## EDA"
      ],
      "metadata": {
        "id": "_nMkBGvNHwVy"
      }
    },
    {
      "cell_type": "code",
      "source": [
        "df = pd.read_feather('/content/drive/MyDrive/wep_2012_22.feather')\n",
        "df = df[['DATETIME', 'WEP ($/MWh)']]\n",
        "df.columns = ['ds', 'y']\n",
        "\n",
        "sb.violinplot(x=df['y']);"
      ],
      "metadata": {
        "colab": {
          "base_uri": "https://localhost:8080/",
          "height": 279
        },
        "id": "f9qEuRzk1NSK",
        "outputId": "3ed37343-efdf-410a-ff81-3923b6b40b00"
      },
      "execution_count": 6,
      "outputs": [
        {
          "output_type": "display_data",
          "data": {
            "text/plain": [
              "<Figure size 432x288 with 1 Axes>"
            ],
            "image/png": "[encoded data removed]"
          },
          "metadata": {
            "needs_background": "light"
          }
        }
      ]
    },
    {
      "cell_type": "code",
      "source": [
        "fig, axes = plt.subplots(1, 1, figsize=(6, 3), facecolor='none')\n",
        "df_plot = df[(df['ds'] < '2022-08-02') & (df['ds'] >= f'2022-08-01')]\n",
        "plt.plot(df_plot.ds, df_plot.y, color='#FFC42C')\n",
        "xmin = axes.get_xticks()[0]\n",
        "plt.xticks(np.linspace(xmin, xmin+1, 7), np.linspace(0, 24, 7).astype(int))\n",
        "plt.ylim([0, df_plot.y.max()*1.2])\n",
        "\n",
        "plt.title('Daily WEP on 1/8/2022')\n",
        "plt.ylabel('Price ($S)')\n",
        "plt.xlabel('Hour of Day')\n",
        "axes.spines['top'].set_visible(False)\n",
        "axes.spines['right'].set_visible(False)\n",
        "axes.spines['bottom'].set_color('#404040')\n",
        "axes.spines['left'].set_color('#404040')"
      ],
      "metadata": {
        "colab": {
          "base_uri": "https://localhost:8080/",
          "height": 241
        },
        "id": "sUfw55F3H3E6",
        "outputId": "5625c109-1564-447f-fcfb-f5c3c99af7a3"
      },
      "execution_count": 7,
      "outputs": [
        {
          "output_type": "display_data",
          "data": {
            "text/plain": [
              "<Figure size 432x216 with 1 Axes>"
            ],
            "image/png": "[encoded data removed]"
          },
          "metadata": {
            "needs_background": "light"
          }
        }
      ]
    },
    {
      "cell_type": "code",
      "source": [
        "fig, axes = plt.subplots(1, 1, figsize=(9, 3), facecolor='none')\n",
        "df_plot = df[(df['ds'] < '2022-09-01') & (df['ds'] >= f'2022-08-01')]\n",
        "plt.scatter(df_plot.ds, df_plot.y, color='#FFC42C', alpha=1, s=0.6)\n",
        "xmin = axes.get_xticks()[0]\n",
        "plot_days = np.array([1, 6, 11, 16, 21, 26, 31])\n",
        "plt.xticks(plot_days+xmin-1, plot_days)\n",
        "plt.ylim([0, 1000])\n",
        "\n",
        "plt.title('Monthly WEP for August 2022')\n",
        "plt.ylabel('Price ($S)')\n",
        "plt.xlabel('Day of Month')\n",
        "axes.spines['top'].set_visible(False)\n",
        "axes.spines['right'].set_visible(False)\n",
        "axes.spines['bottom'].set_color('#404040')\n",
        "axes.spines['left'].set_color('#404040')"
      ],
      "metadata": {
        "colab": {
          "base_uri": "https://localhost:8080/",
          "height": 241
        },
        "id": "lEeGPdlZPaI7",
        "outputId": "0a7282bd-b2f9-4d40-ce24-db0f5fdf1ba0"
      },
      "execution_count": 8,
      "outputs": [
        {
          "output_type": "display_data",
          "data": {
            "text/plain": [
              "<Figure size 648x216 with 1 Axes>"
            ],
            "image/png": "[encoded data removed]"
          },
          "metadata": {
            "needs_background": "light"
          }
        }
      ]
    },
    {
      "cell_type": "markdown",
      "source": [
        "## Neural Prophet"
      ],
      "metadata": {
        "id": "wWITjJY3odoT"
      }
    },
    {
      "cell_type": "markdown",
      "source": [
        "We use Neural Prophet to help us determine preprocessing steps."
      ],
      "metadata": {
        "id": "wNPQnHcKZurx"
      }
    },
    {
      "cell_type": "code",
      "source": [
        "def neural_prophet_experiment(start_year: int, clip_values: bool):\n",
        "                              \n",
        "    df = pd.read_feather('/content/drive/MyDrive/wep_2012_22.feather')\n",
        "    df = df[['DATETIME', 'WEP ($/MWh)']]\n",
        "    df.columns = ['ds', 'y']\n",
        "    max_price = df.y.median() + 3*df.y.std()\n",
        "\n",
        "    df_train = df[(df['ds'] < '2022-08-01') & (df['ds'] >= f'{start_year}-01-01')]\n",
        "    df_test = df[(df['ds'] >= '2022-08-01')]\n",
        "    if clip_values:\n",
        "        df_train['y'] = df_train['y'].apply(lambda x: max_price if x > max_price else x)\n",
        "    df_test['y'] = df_test['y'].apply(lambda x: max_price if x > max_price else x)\n",
        "\n",
        "    m = NeuralProphet()\n",
        "    metrics = m.fit(df_train)\n",
        "\n",
        "    forecast = m.predict(df_test)\n",
        "    return mae(forecast.residual1), rmse(forecast.residual1)"
      ],
      "metadata": {
        "id": "OKhI5h0XPNv5"
      },
      "execution_count": 54,
      "outputs": []
    },
    {
      "cell_type": "code",
      "source": [
        "results_neural_prophet = []\n",
        "\n",
        "for yr in [2012, 2020, 2021, 2022]:\n",
        "    for clip_bool in [True, False]:\n",
        "        mae, rmse = neural_prophet_experiment(start_year=yr, clip_values=clip_bool)\n",
        "        results_neural_prophet.append({\n",
        "            'start_year': yr,\n",
        "            'clip_outliers': clip_bool,\n",
        "            'mae': mae,\n",
        "            'rmse': rmse,\n",
        "        })"
      ],
      "metadata": {
        "id": "I38uXzX9H-E3"
      },
      "execution_count": null,
      "outputs": []
    },
    {
      "cell_type": "code",
      "source": [
        "pd.DataFrame(results_neural_prophet)"
      ],
      "metadata": {
        "id": "o38AtNpYUwkN"
      },
      "execution_count": null,
      "outputs": []
    },
    {
      "cell_type": "markdown",
      "source": [
        "We conclude that start year of 2021 and NOT clipping the outliers is the best pre-processing method"
      ],
      "metadata": {
        "id": "vbljTmrpZ0v7"
      }
    },
    {
      "cell_type": "code",
      "source": [
        "df = pd.read_feather('/content/drive/MyDrive/wep_2012_22.feather')\n",
        "df = df[['DATETIME', 'WEP ($/MWh)']]\n",
        "df.columns = ['ds', 'y']\n",
        "max_price = df.y.median() + 3*df.y.std()\n",
        "\n",
        "df_train = df[(df['ds'] < '2022-08-01') & (df['ds'] >= f'2021-01-01')]\n",
        "df_test = df[(df['ds'] >= '2022-08-01')]\n",
        "df_test['y'] = df_test['y'].apply(lambda x: max_price if x > max_price else x)\n",
        "\n",
        "m = NeuralProphet()\n",
        "metrics = m.fit(df_train)\n",
        "\n",
        "forecast = m.predict(df_test)\n",
        "print(f'\\nMAE={mae(forecast.residual1)}, RMSE={rmse(forecast.residual1)}')"
      ],
      "metadata": {
        "colab": {
          "base_uri": "https://localhost:8080/",
          "height": 847,
          "referenced_widgets": [
            "f8ec27148637442a994daa44e9642e60",
            "a662e2c3f9134b87a63e08e70bc17c6e",
            "93b9ae71090a41dea229329b99024530",
            "90efb2864fb54a84bd845a0e35420117",
            "619885a3931c48bfb85316e75a24e762",
            "f5257497c0bd4eff919252bfe5e243b0",
            "223041eb03964505a78b327f67276d10",
            "7c912212f9d847048844133bc9150cae",
            "5ef19367058f4d3e8590ee40c28e72ed",
            "de215f423bf04aa9b130cc4d94e711cd",
            "d5745140ef0740a6856d6966af5a9fb9",
            "bab40b943df14837b4fbc0985e4a7c8b",
            "2638345e1ee642edafe3937812e109aa",
            "02a6ed0cf84b4dea897549aae60b4164",
            "2d2263c4ea3d4fea96bf27a4a885f484",
            "2bc59c7ec946420385743acc9301b3de",
            "21581eded0da41d3af678998fb5f8cfe",
            "954fe576329f420f90e340ff2d98ee5b",
            "edd0be65a83e4b87abe5c9f2375a0275",
            "34134c1b8199479ba87124b989111771",
            "4803ea4145314ebfb05e03ff0525e0fe",
            "6818c0d4658148f59152b61305c50a9a"
          ]
        },
        "id": "Itl2xjZbJK9T",
        "outputId": "0922913a-2998-491d-8371-b6135384e5a0"
      },
      "execution_count": 44,
      "outputs": [
        {
          "output_type": "stream",
          "name": "stderr",
          "text": [
            "WARNING - (py.warnings._showwarnmsg) - /usr/local/lib/python3.7/dist-packages/ipykernel_launcher.py:8: SettingWithCopyWarning: \n",
            "A value is trying to be set on a copy of a slice from a DataFrame.\n",
            "Try using .loc[row_indexer,col_indexer] = value instead\n",
            "\n",
            "See the caveats in the documentation: https://pandas.pydata.org/pandas-docs/stable/user_guide/indexing.html#returning-a-view-versus-a-copy\n",
            "  \n",
            "\n",
            "WARNING:py.warnings:/usr/local/lib/python3.7/dist-packages/ipykernel_launcher.py:8: SettingWithCopyWarning: \n",
            "A value is trying to be set on a copy of a slice from a DataFrame.\n",
            "Try using .loc[row_indexer,col_indexer] = value instead\n",
            "\n",
            "See the caveats in the documentation: https://pandas.pydata.org/pandas-docs/stable/user_guide/indexing.html#returning-a-view-versus-a-copy\n",
            "  \n",
            "\n",
            "INFO - (NP.df_utils._infer_frequency) - Major frequency 30T corresponds to 99.996% of the data.\n",
            "INFO:NP.df_utils:Major frequency 30T corresponds to 99.996% of the data.\n",
            "INFO - (NP.df_utils._infer_frequency) - Dataframe freq automatically defined as 30T\n",
            "INFO:NP.df_utils:Dataframe freq automatically defined as 30T\n",
            "INFO - (NP.config.init_data_params) - Setting normalization to global as only one dataframe provided for training.\n",
            "INFO:NP.config:Setting normalization to global as only one dataframe provided for training.\n",
            "INFO - (NP.utils.set_auto_seasonalities) - Disabling yearly seasonality. Run NeuralProphet with yearly_seasonality=True to override this.\n",
            "INFO:NP.utils:Disabling yearly seasonality. Run NeuralProphet with yearly_seasonality=True to override this.\n",
            "INFO - (NP.config.set_auto_batch_epoch) - Auto-set batch_size to 64\n",
            "INFO:NP.config:Auto-set batch_size to 64\n",
            "INFO - (NP.config.set_auto_batch_epoch) - Auto-set epochs to 79\n",
            "INFO:NP.config:Auto-set epochs to 79\n"
          ]
        },
        {
          "output_type": "display_data",
          "data": {
            "text/plain": [
              "  0%|          | 0/161 [00:00<?, ?it/s]"
            ],
            "application/vnd.jupyter.widget-view+json": {
              "version_major": 2,
              "version_minor": 0,
              "model_id": "f8ec27148637442a994daa44e9642e60"
            }
          },
          "metadata": {}
        },
        {
          "output_type": "stream",
          "name": "stderr",
          "text": [
            "INFO - (NP.utils_torch.lr_range_test) - lr-range-test results: steep: 2.59E-01, min: 5.46E-02\n",
            "INFO:NP.utils_torch:lr-range-test results: steep: 2.59E-01, min: 5.46E-02\n"
          ]
        },
        {
          "output_type": "display_data",
          "data": {
            "text/plain": [
              "  0%|          | 0/161 [00:00<?, ?it/s]"
            ],
            "application/vnd.jupyter.widget-view+json": {
              "version_major": 2,
              "version_minor": 0,
              "model_id": "bab40b943df14837b4fbc0985e4a7c8b"
            }
          },
          "metadata": {}
        },
        {
          "output_type": "stream",
          "name": "stderr",
          "text": [
            "INFO - (NP.utils_torch.lr_range_test) - lr-range-test results: steep: 2.59E-01, min: 5.46E-02\n",
            "INFO:NP.utils_torch:lr-range-test results: steep: 2.59E-01, min: 5.46E-02\n",
            "INFO - (NP.forecaster._init_train_loader) - lr-range-test selected learning rate: 1.88E-01\n",
            "INFO:NP.forecaster:lr-range-test selected learning rate: 1.88E-01\n",
            "Epoch[79/79]: 100%|██████████| 79/79 [01:08<00:00,  1.15it/s, SmoothL1Loss=0.0759, MAE=127, RMSE=289, RegLoss=0]\n",
            "INFO - (NP.df_utils._infer_frequency) - Major frequency 30T corresponds to 99.957% of the data.\n",
            "INFO:NP.df_utils:Major frequency 30T corresponds to 99.957% of the data.\n",
            "INFO - (NP.df_utils._infer_frequency) - Defined frequency is equal to major frequency - 30T\n",
            "INFO:NP.df_utils:Defined frequency is equal to major frequency - 30T\n",
            "INFO - (NP.df_utils._infer_frequency) - Major frequency 30T corresponds to 99.957% of the data.\n",
            "INFO:NP.df_utils:Major frequency 30T corresponds to 99.957% of the data.\n",
            "INFO - (NP.df_utils._infer_frequency) - Defined frequency is equal to major frequency - 30T\n",
            "INFO:NP.df_utils:Defined frequency is equal to major frequency - 30T\n"
          ]
        },
        {
          "output_type": "stream",
          "name": "stdout",
          "text": [
            "\n",
            "MAE=76.98725682267138, RMSE=92.27152935800981\n"
          ]
        }
      ]
    },
    {
      "cell_type": "code",
      "source": [
        "df = pd.read_feather('/content/drive/MyDrive/wep_2012_22.feather')\n",
        "df = df[['DATETIME', 'WEP ($/MWh)']]\n",
        "df.columns = ['ds', 'y']\n",
        "max_price = df.y.median() + 3*df.y.std()\n",
        "\n",
        "df_train = df[(df['ds'] < '2022-08-01') & (df['ds'] >= f'2021-01-01')]\n",
        "df_test = df[(df['ds'] >= '2022-08-01')]\n",
        "# df_test['y'] = df_test['y'].apply(lambda x: max_price if x > max_price else x)\n",
        "\n",
        "m = NeuralProphet()\n",
        "metrics = m.fit(df_train)\n",
        "\n",
        "forecast = m.predict(df_test)\n",
        "print(f'\\nMAE={mae(forecast.residual1)}, RMSE={rmse(forecast.residual1)}')"
      ],
      "metadata": {
        "colab": {
          "base_uri": "https://localhost:8080/",
          "height": 604,
          "referenced_widgets": [
            "d00d03ba526b4449b8c2fa1c7b5e95fa",
            "5afb508ce28f4241b6ea773d030fe061",
            "3a16a73a267c4e998c16fad2092ed52d",
            "5bad580c8bf244fc9e34b5d1686c84c1",
            "200bb3fbca1945c8a21bd391cc87ce8c",
            "a8f342faad944ea8905c3714dbc9a63a",
            "2208edcf5fee4d7d93f01a0a83248ebe",
            "42c6d9ce8db64d108fdad814d9dfc38b",
            "a2fcc767908b45138f3a90a4d012d67b",
            "bc420891fca84bf3ab37f25185c52e41",
            "92fdc3d4ee294ba1ac618630cf2f85a1",
            "96c0026d8f5e441ca2ef2aa8a610c629",
            "94eac193560d406895443e719b926afb",
            "f016c67d6b604f84b862263e68eaa82b",
            "421bb3e0f77d4981ba4ed2581350b250",
            "1e529021aca24988a940529fd5058447",
            "ffe4208687674547869a83cfc9ed02d0",
            "628ecdc1d1c441459ca1b9e5429ebe07",
            "491fd6c25bc1483fa1ecf6dd469dd93c",
            "a92d4eee84ea467584a5bddc3c4c93b7",
            "1fc2998003704c5fa6982d90f1e05685",
            "b6e1fa1ec0f84714b527254792851df9"
          ]
        },
        "id": "lpTOX0yh8e-F",
        "outputId": "3c33bce8-b151-43c9-c4eb-8e5c70261c4f"
      },
      "execution_count": 45,
      "outputs": [
        {
          "output_type": "stream",
          "name": "stderr",
          "text": [
            "INFO - (NP.df_utils._infer_frequency) - Major frequency 30T corresponds to 99.996% of the data.\n",
            "INFO:NP.df_utils:Major frequency 30T corresponds to 99.996% of the data.\n",
            "INFO - (NP.df_utils._infer_frequency) - Dataframe freq automatically defined as 30T\n",
            "INFO:NP.df_utils:Dataframe freq automatically defined as 30T\n",
            "INFO - (NP.config.init_data_params) - Setting normalization to global as only one dataframe provided for training.\n",
            "INFO:NP.config:Setting normalization to global as only one dataframe provided for training.\n",
            "INFO - (NP.utils.set_auto_seasonalities) - Disabling yearly seasonality. Run NeuralProphet with yearly_seasonality=True to override this.\n",
            "INFO:NP.utils:Disabling yearly seasonality. Run NeuralProphet with yearly_seasonality=True to override this.\n",
            "INFO - (NP.config.set_auto_batch_epoch) - Auto-set batch_size to 64\n",
            "INFO:NP.config:Auto-set batch_size to 64\n",
            "INFO - (NP.config.set_auto_batch_epoch) - Auto-set epochs to 79\n",
            "INFO:NP.config:Auto-set epochs to 79\n"
          ]
        },
        {
          "output_type": "display_data",
          "data": {
            "text/plain": [
              "  0%|          | 0/161 [00:00<?, ?it/s]"
            ],
            "application/vnd.jupyter.widget-view+json": {
              "version_major": 2,
              "version_minor": 0,
              "model_id": "d00d03ba526b4449b8c2fa1c7b5e95fa"
            }
          },
          "metadata": {}
        },
        {
          "output_type": "stream",
          "name": "stderr",
          "text": [
            "INFO - (NP.utils_torch.lr_range_test) - lr-range-test results: steep: 1.54E-01, min: 3.03E+00\n",
            "INFO:NP.utils_torch:lr-range-test results: steep: 1.54E-01, min: 3.03E+00\n"
          ]
        },
        {
          "output_type": "display_data",
          "data": {
            "text/plain": [
              "  0%|          | 0/161 [00:00<?, ?it/s]"
            ],
            "application/vnd.jupyter.widget-view+json": {
              "version_major": 2,
              "version_minor": 0,
              "model_id": "96c0026d8f5e441ca2ef2aa8a610c629"
            }
          },
          "metadata": {}
        },
        {
          "output_type": "stream",
          "name": "stderr",
          "text": [
            "INFO - (NP.utils_torch.lr_range_test) - lr-range-test results: steep: 1.54E-01, min: 3.03E+00\n",
            "INFO:NP.utils_torch:lr-range-test results: steep: 1.54E-01, min: 3.03E+00\n",
            "INFO - (NP.forecaster._init_train_loader) - lr-range-test selected learning rate: 1.33E-01\n",
            "INFO:NP.forecaster:lr-range-test selected learning rate: 1.33E-01\n",
            "Epoch[79/79]: 100%|██████████| 79/79 [01:07<00:00,  1.16it/s, SmoothL1Loss=0.0759, MAE=127, RMSE=289, RegLoss=0]\n",
            "INFO - (NP.df_utils._infer_frequency) - Major frequency 30T corresponds to 99.957% of the data.\n",
            "INFO:NP.df_utils:Major frequency 30T corresponds to 99.957% of the data.\n",
            "INFO - (NP.df_utils._infer_frequency) - Defined frequency is equal to major frequency - 30T\n",
            "INFO:NP.df_utils:Defined frequency is equal to major frequency - 30T\n",
            "INFO - (NP.df_utils._infer_frequency) - Major frequency 30T corresponds to 99.957% of the data.\n",
            "INFO:NP.df_utils:Major frequency 30T corresponds to 99.957% of the data.\n",
            "INFO - (NP.df_utils._infer_frequency) - Defined frequency is equal to major frequency - 30T\n",
            "INFO:NP.df_utils:Defined frequency is equal to major frequency - 30T\n"
          ]
        },
        {
          "output_type": "stream",
          "name": "stdout",
          "text": [
            "\n",
            "MAE=82.6349030630929, RMSE=152.82701614335954\n"
          ]
        }
      ]
    },
    {
      "cell_type": "code",
      "source": [
        "plt.scatter(range(len(df_test)), df_test.y, s=0.2, color = 'red', label = 'actual')\n",
        "plt.scatter(range(len(df_test)), forecast.yhat1, s=0.2, color = 'blue', label = 'predicted')\n",
        "plt.title('Electric Price')\n",
        "plt.xlabel('Each Period')\n",
        "plt.ylabel(\"Electric Price\")\n",
        "plt.legend()\n",
        "plt.show()\n"
      ],
      "metadata": {
        "colab": {
          "base_uri": "https://localhost:8080/",
          "height": 295
        },
        "id": "o5_4FH3V-8uF",
        "outputId": "e71d3d57-c71d-4183-ec94-d6711f156425"
      },
      "execution_count": 16,
      "outputs": [
        {
          "output_type": "display_data",
          "data": {
            "text/plain": [
              "<Figure size 432x288 with 1 Axes>"
            ],
            "image/png": "[encoded data removed]"
          },
          "metadata": {
            "needs_background": "light"
          }
        }
      ]
    },
    {
      "cell_type": "code",
      "source": [
        "fig_forecast = m.plot(forecast)"
      ],
      "metadata": {
        "colab": {
          "base_uri": "https://localhost:8080/",
          "height": 441
        },
        "id": "JYvcyF1dTSsY",
        "outputId": "5504195a-fc37-4d28-d32d-a1dc5ac3c59d"
      },
      "execution_count": 17,
      "outputs": [
        {
          "output_type": "display_data",
          "data": {
            "text/plain": [
              "<Figure size 720x432 with 1 Axes>"
            ],
            "image/png": "[encoded data removed]"
          },
          "metadata": {}
        }
      ]
    },
    {
      "cell_type": "code",
      "source": [
        "fig_forecast = m.plot(forecast[forecast['ds'] >= '2022-09-01'])"
      ],
      "metadata": {
        "colab": {
          "base_uri": "https://localhost:8080/",
          "height": 441
        },
        "id": "caedsrQilF86",
        "outputId": "c010e663-5b4d-48e5-bdb0-d23c742cfcfd"
      },
      "execution_count": 18,
      "outputs": [
        {
          "output_type": "display_data",
          "data": {
            "text/plain": [
              "<Figure size 720x432 with 1 Axes>"
            ],
            "image/png": "[encoded data removed]"
          },
          "metadata": {}
        }
      ]
    },
    {
      "cell_type": "code",
      "source": [
        "fig_components = m.plot_components(forecast)"
      ],
      "metadata": {
        "colab": {
          "base_uri": "https://localhost:8080/",
          "height": 657
        },
        "id": "kGrPb9nXlECQ",
        "outputId": "9a699c43-810d-4248-cf5c-a822e981b0e5"
      },
      "execution_count": 19,
      "outputs": [
        {
          "output_type": "display_data",
          "data": {
            "text/plain": [
              "<Figure size 720x648 with 3 Axes>"
            ],
            "image/png": "[encoded data removed]"
          },
          "metadata": {}
        }
      ]
    },
    {
      "cell_type": "code",
      "source": [
        "fig_model = m.plot_parameters()"
      ],
      "metadata": {
        "colab": {
          "base_uri": "https://localhost:8080/",
          "height": 873
        },
        "id": "r4fnv9hIs9i5",
        "outputId": "f4d0ace5-3f58-47d5-fcc6-2e21ab701fd9"
      },
      "execution_count": 20,
      "outputs": [
        {
          "output_type": "display_data",
          "data": {
            "text/plain": [
              "<Figure size 720x864 with 4 Axes>"
            ],
            "image/png": "[encoded data removed]"
          },
          "metadata": {}
        }
      ]
    },
    {
      "cell_type": "markdown",
      "source": [
        "## Facebook Prophet"
      ],
      "metadata": {
        "id": "BjcHPwpHlZ1e"
      }
    },
    {
      "cell_type": "code",
      "source": [
        "df = pd.read_feather('/content/drive/MyDrive/wep_2012_22.feather')\n",
        "df = df[['DATETIME', 'WEP ($/MWh)']]\n",
        "df.columns = ['ds', 'y']\n",
        "max_price = df.y.median() + 3*df.y.std()\n",
        "\n",
        "df_train = df[(df['ds'] < '2022-08-01') & (df['ds'] >= f'2021-01-01')]\n",
        "df_test = df[(df['ds'] >= '2022-08-01')]\n",
        "# df_test['y'] = df_test['y'].apply(lambda x: max_price if x > max_price else x)\n",
        "\n",
        "m = Prophet()\n",
        "metrics = m.fit(df_train)\n",
        "\n",
        "forecast = m.predict(df_test)\n",
        "print(f'\\nMAE={mae(forecast.yhat-np.array(df_test.y))}, RMSE={rmse(forecast.yhat-np.array(df_test.y))}')"
      ],
      "metadata": {
        "colab": {
          "base_uri": "https://localhost:8080/"
        },
        "id": "adFTQuNdfzL4",
        "outputId": "a60bc454-e746-42c8-941c-63a9376eef77"
      },
      "execution_count": 53,
      "outputs": [
        {
          "output_type": "stream",
          "name": "stderr",
          "text": [
            "INFO:prophet:Disabling yearly seasonality. Run prophet with yearly_seasonality=True to override this.\n",
            "DEBUG:cmdstanpy:input tempfile: /tmp/tmpnz03_mxy/c714b7wn.json\n",
            "DEBUG:cmdstanpy:input tempfile: /tmp/tmpnz03_mxy/9li_4514.json\n",
            "DEBUG:cmdstanpy:idx 0\n",
            "DEBUG:cmdstanpy:running CmdStan, num_threads: None\n",
            "DEBUG:cmdstanpy:CmdStan args: ['/usr/local/lib/python3.7/dist-packages/prophet/stan_model/prophet_model.bin', 'random', 'seed=74997', 'data', 'file=/tmp/tmpnz03_mxy/c714b7wn.json', 'init=/tmp/tmpnz03_mxy/9li_4514.json', 'output', 'file=/tmp/tmppiemliku/prophet_model-20221002205941.csv', 'method=optimize', 'algorithm=lbfgs', 'iter=10000']\n",
            "20:59:41 - cmdstanpy - INFO - Chain [1] start processing\n",
            "INFO:cmdstanpy:Chain [1] start processing\n",
            "21:00:07 - cmdstanpy - INFO - Chain [1] done processing\n",
            "INFO:cmdstanpy:Chain [1] done processing\n"
          ]
        },
        {
          "output_type": "stream",
          "name": "stdout",
          "text": [
            "\n",
            "MAE=96.43849473782049, RMSE=160.66702778922317\n"
          ]
        }
      ]
    },
    {
      "cell_type": "code",
      "source": [
        "df = pd.read_feather('/content/drive/MyDrive/wep_2012_22.feather')\n",
        "df = df[['DATETIME', 'WEP ($/MWh)']]\n",
        "df.columns = ['ds', 'y']\n",
        "max_price = df.y.median() + 3*df.y.std()\n",
        "\n",
        "df_train = df[(df['ds'] < '2022-08-01') & (df['ds'] >= f'2021-01-01')]\n",
        "df_test = df[(df['ds'] >= '2022-08-01')]\n",
        "df_test['y'] = df_test['y'].apply(lambda x: max_price if x > max_price else x)\n",
        "\n",
        "m = Prophet()\n",
        "metrics = m.fit(df_train)\n",
        "\n",
        "forecast = m.predict(df_test)\n",
        "print(f'\\nMAE={mae(forecast.yhat-np.array(df_test.y))}, RMSE={rmse(forecast.yhat-np.array(df_test.y))}')"
      ],
      "metadata": {
        "colab": {
          "base_uri": "https://localhost:8080/"
        },
        "id": "ybuv3yuLtR_j",
        "outputId": "d8796941-45c8-4483-8308-dc742205a828"
      },
      "execution_count": 46,
      "outputs": [
        {
          "output_type": "stream",
          "name": "stderr",
          "text": [
            "WARNING - (py.warnings._showwarnmsg) - /usr/local/lib/python3.7/dist-packages/ipykernel_launcher.py:8: SettingWithCopyWarning: \n",
            "A value is trying to be set on a copy of a slice from a DataFrame.\n",
            "Try using .loc[row_indexer,col_indexer] = value instead\n",
            "\n",
            "See the caveats in the documentation: https://pandas.pydata.org/pandas-docs/stable/user_guide/indexing.html#returning-a-view-versus-a-copy\n",
            "  \n",
            "\n",
            "WARNING:py.warnings:/usr/local/lib/python3.7/dist-packages/ipykernel_launcher.py:8: SettingWithCopyWarning: \n",
            "A value is trying to be set on a copy of a slice from a DataFrame.\n",
            "Try using .loc[row_indexer,col_indexer] = value instead\n",
            "\n",
            "See the caveats in the documentation: https://pandas.pydata.org/pandas-docs/stable/user_guide/indexing.html#returning-a-view-versus-a-copy\n",
            "  \n",
            "\n",
            "INFO:prophet:Disabling yearly seasonality. Run prophet with yearly_seasonality=True to override this.\n",
            "DEBUG:cmdstanpy:input tempfile: /tmp/tmpnz03_mxy/t2rz0nwi.json\n",
            "DEBUG:cmdstanpy:input tempfile: /tmp/tmpnz03_mxy/pbhlqwt0.json\n",
            "DEBUG:cmdstanpy:idx 0\n",
            "DEBUG:cmdstanpy:running CmdStan, num_threads: None\n",
            "DEBUG:cmdstanpy:CmdStan args: ['/usr/local/lib/python3.7/dist-packages/prophet/stan_model/prophet_model.bin', 'random', 'seed=19943', 'data', 'file=/tmp/tmpnz03_mxy/t2rz0nwi.json', 'init=/tmp/tmpnz03_mxy/pbhlqwt0.json', 'output', 'file=/tmp/tmp2xz1cl2n/prophet_model-20221002204755.csv', 'method=optimize', 'algorithm=lbfgs', 'iter=10000']\n",
            "20:47:55 - cmdstanpy - INFO - Chain [1] start processing\n",
            "INFO:cmdstanpy:Chain [1] start processing\n",
            "20:48:19 - cmdstanpy - INFO - Chain [1] done processing\n",
            "INFO:cmdstanpy:Chain [1] done processing\n"
          ]
        },
        {
          "output_type": "stream",
          "name": "stdout",
          "text": [
            "\n",
            "MAE=90.65114785278259, RMSE=106.03147074962365\n"
          ]
        }
      ]
    },
    {
      "cell_type": "code",
      "source": [
        "fig_forecast = m.plot(forecast)"
      ],
      "metadata": {
        "colab": {
          "base_uri": "https://localhost:8080/",
          "height": 441
        },
        "id": "LOwJ6GZWr1ek",
        "outputId": "a6286a18-f8d9-4212-efc1-9158f54b27b3"
      },
      "execution_count": 22,
      "outputs": [
        {
          "output_type": "display_data",
          "data": {
            "text/plain": [
              "<Figure size 720x432 with 1 Axes>"
            ],
            "image/png": "[encoded data removed]"
          },
          "metadata": {}
        }
      ]
    },
    {
      "cell_type": "code",
      "source": [
        "fig_forecast = m.plot(forecast[forecast['ds'] >= '2022-09-01'])"
      ],
      "metadata": {
        "colab": {
          "base_uri": "https://localhost:8080/",
          "height": 441
        },
        "id": "lhlFoqjRskTg",
        "outputId": "de267a34-943d-4ae0-8d1e-8d1587ca809a"
      },
      "execution_count": 23,
      "outputs": [
        {
          "output_type": "display_data",
          "data": {
            "text/plain": [
              "<Figure size 720x432 with 1 Axes>"
            ],
            "image/png": "[encoded data removed]"
          },
          "metadata": {}
        }
      ]
    },
    {
      "cell_type": "code",
      "source": [
        "fig_components = m.plot_components(forecast)"
      ],
      "metadata": {
        "colab": {
          "base_uri": "https://localhost:8080/",
          "height": 657
        },
        "id": "K4c0bdOesmJc",
        "outputId": "4722f505-dd6e-4261-baf5-9d9a767265eb"
      },
      "execution_count": 24,
      "outputs": [
        {
          "output_type": "display_data",
          "data": {
            "text/plain": [
              "<Figure size 648x648 with 3 Axes>"
            ],
            "image/png": "[encoded data removed]"
          },
          "metadata": {}
        }
      ]
    },
    {
      "cell_type": "markdown",
      "source": [
        "## LSTM Method"
      ],
      "metadata": {
        "id": "cuJrNh4zqHJf"
      }
    },
    {
      "cell_type": "code",
      "source": [
        "import numpy as np \n",
        "import tensorflow as tf\n",
        "from tensorflow.keras.layers import Dropout, Dense, LSTM \n",
        "import matplotlib.pyplot as plt \n",
        "import pandas as pd \n",
        "from sklearn.preprocessing import MinMaxScaler "
      ],
      "metadata": {
        "id": "V66fCsD0WZcz"
      },
      "execution_count": 25,
      "outputs": []
    },
    {
      "cell_type": "code",
      "source": [
        "df = pd.read_feather('/content/drive/MyDrive/wep_2012_22.feather')\n",
        "df = df[['DATETIME', 'WEP ($/MWh)']]\n",
        "df.columns = ['ds', 'y']\n",
        "max_price = df.y.median() + 3*df.y.std()\n",
        "\n",
        "df_train = df[(df['ds'] < '2022-08-01') & (df['ds'] >= f'2021-01-01')]\n",
        "df_test = df[(df['ds'] >= '2022-08-01')]\n",
        "df_train['y'] = df_train['y'].apply(lambda x: max_price if x > max_price else x)\n",
        "df_test['y'] = df_test['y'].apply(lambda x: max_price if x > max_price else x)\n",
        "\n",
        "# Preprocessing the data\n",
        "sc = MinMaxScaler(feature_range = (0,1)) \n",
        "training_values = df_train['y'].values.reshape(-1, 1)\n",
        "training_scaled_values = sc.fit_transform(training_values)\n",
        "\n",
        "# We use 30 days prior as past input, to predict the 10th day in the future\n",
        "DAYS_BEFORE = 30\n",
        "DAYS_IN_FUTURE = 10\n",
        "\n",
        "X_train = []\n",
        "y_train = []\n",
        "\n",
        "for i in range(48*DAYS_BEFORE, len(training_scaled_values)-48*DAYS_IN_FUTURE, 48):\n",
        "  X_train.append(training_scaled_values[i-48*DAYS_BEFORE:i]) \n",
        "  y_train.append(training_scaled_values[i+48*DAYS_IN_FUTURE:i+48*(DAYS_IN_FUTURE+1)])\n",
        "\n",
        "# Shuffle the training data\n",
        "np.random.seed(7)\n",
        "np.random.shuffle(X_train)\n",
        "np.random.seed(7)\n",
        "np.random.shuffle(y_train)\n",
        "tf.random.set_seed(7)\n",
        "\n",
        "X_train, y_train = np.array(X_train), np.squeeze(np.array(y_train))\n",
        "X_train = np.reshape(X_train, (X_train.shape[0], 48*DAYS_BEFORE, 1))\n",
        "\n",
        "# Get the test data\n",
        "testing_values = df_test['y'].values.reshape(-1,1)\n",
        "testing_scaled_values = sc.transform(testing_values)\n",
        "\n",
        "X_test = []\n",
        "y_test = []\n",
        "\n",
        "for i in range(48*DAYS_BEFORE, len(testing_scaled_values)-48*DAYS_IN_FUTURE, 48):\n",
        "  X_test.append(testing_scaled_values[i-48*DAYS_BEFORE:i]) \n",
        "  y_test.append(testing_scaled_values[i+48*DAYS_IN_FUTURE:i+48*(DAYS_IN_FUTURE+1)])\n",
        "\n",
        "X_test, y_test = np.array(X_test), np.squeeze(np.array(y_test))\n",
        "X_test = np.reshape(X_test, (X_test.shape[0], 48*DAYS_BEFORE, 1))\n",
        "\n",
        "model = tf.keras.Sequential([\n",
        "    LSTM(80, return_sequences=True, input_shape=(48*DAYS_BEFORE, 1)),\n",
        "    Dropout(0.2),\n",
        "    LSTM(100),\n",
        "    Dropout(0.2),\n",
        "    Dense(48)\n",
        "])\n",
        "\n",
        "def rmse_loss(y_true, y_pred):\n",
        "    return tf.square(tf.math.reduce_mean(tf.square(y_true - y_pred)))\n",
        "\n",
        "model.compile(\n",
        "    optimizer=tf.keras.optimizers.Adam(0.001),\n",
        "    loss=rmse_loss,\n",
        ")\n",
        "\n",
        "## Create checkpoints\n",
        "checkpoint_save_path = \"./DLW0001.ckpt\"\n",
        "\n",
        "cp_callback = tf.keras.callbacks.ModelCheckpoint(\n",
        "    filepath=checkpoint_save_path,\n",
        "    save_weights_only= True,\n",
        "    save_best_only= True,\n",
        "    monitor = 'loss'\n",
        ")\n",
        "\n",
        "X_train.shape, X_test.shape, y_train.shape, y_test.shape"
      ],
      "metadata": {
        "id": "Xdcft_y7fGZE",
        "colab": {
          "base_uri": "https://localhost:8080/"
        },
        "outputId": "2cdd52ad-9ba6-48c9-9c45-fec84bbba13a"
      },
      "execution_count": 29,
      "outputs": [
        {
          "output_type": "stream",
          "name": "stderr",
          "text": [
            "WARNING - (py.warnings._showwarnmsg) - /usr/local/lib/python3.7/dist-packages/ipykernel_launcher.py:8: SettingWithCopyWarning: \n",
            "A value is trying to be set on a copy of a slice from a DataFrame.\n",
            "Try using .loc[row_indexer,col_indexer] = value instead\n",
            "\n",
            "See the caveats in the documentation: https://pandas.pydata.org/pandas-docs/stable/user_guide/indexing.html#returning-a-view-versus-a-copy\n",
            "  \n",
            "\n",
            "WARNING:py.warnings:/usr/local/lib/python3.7/dist-packages/ipykernel_launcher.py:8: SettingWithCopyWarning: \n",
            "A value is trying to be set on a copy of a slice from a DataFrame.\n",
            "Try using .loc[row_indexer,col_indexer] = value instead\n",
            "\n",
            "See the caveats in the documentation: https://pandas.pydata.org/pandas-docs/stable/user_guide/indexing.html#returning-a-view-versus-a-copy\n",
            "  \n",
            "\n",
            "WARNING - (py.warnings._showwarnmsg) - /usr/local/lib/python3.7/dist-packages/ipykernel_launcher.py:9: SettingWithCopyWarning: \n",
            "A value is trying to be set on a copy of a slice from a DataFrame.\n",
            "Try using .loc[row_indexer,col_indexer] = value instead\n",
            "\n",
            "See the caveats in the documentation: https://pandas.pydata.org/pandas-docs/stable/user_guide/indexing.html#returning-a-view-versus-a-copy\n",
            "  if __name__ == '__main__':\n",
            "\n",
            "WARNING:py.warnings:/usr/local/lib/python3.7/dist-packages/ipykernel_launcher.py:9: SettingWithCopyWarning: \n",
            "A value is trying to be set on a copy of a slice from a DataFrame.\n",
            "Try using .loc[row_indexer,col_indexer] = value instead\n",
            "\n",
            "See the caveats in the documentation: https://pandas.pydata.org/pandas-docs/stable/user_guide/indexing.html#returning-a-view-versus-a-copy\n",
            "  if __name__ == '__main__':\n",
            "\n"
          ]
        },
        {
          "output_type": "execute_result",
          "data": {
            "text/plain": [
              "((537, 1440, 1), (9, 1440, 1), (537, 48), (9, 48))"
            ]
          },
          "metadata": {},
          "execution_count": 29
        }
      ]
    },
    {
      "cell_type": "code",
      "source": [
        "# Training\n",
        "history = model.fit(X_train, y_train, batch_size = 32, epochs = 10, callbacks = [cp_callback])"
      ],
      "metadata": {
        "colab": {
          "base_uri": "https://localhost:8080/"
        },
        "id": "SnRvNS6guFJC",
        "outputId": "defd1f72-b9f6-477a-f081-8987e6ed0932"
      },
      "execution_count": 30,
      "outputs": [
        {
          "output_type": "stream",
          "name": "stdout",
          "text": [
            "Epoch 1/10\n",
            "17/17 [==============================] - 5s 95ms/step - loss: 0.0186\n",
            "Epoch 2/10\n",
            "17/17 [==============================] - 2s 91ms/step - loss: 0.0036\n",
            "Epoch 3/10\n",
            "17/17 [==============================] - 2s 91ms/step - loss: 0.0028\n",
            "Epoch 4/10\n",
            "17/17 [==============================] - 2s 112ms/step - loss: 0.0026\n",
            "Epoch 5/10\n",
            "17/17 [==============================] - 2s 97ms/step - loss: 0.0025\n",
            "Epoch 6/10\n",
            "17/17 [==============================] - 2s 91ms/step - loss: 0.0024\n",
            "Epoch 7/10\n",
            "17/17 [==============================] - 2s 91ms/step - loss: 0.0023\n",
            "Epoch 8/10\n",
            "17/17 [==============================] - 2s 91ms/step - loss: 0.0022\n",
            "Epoch 9/10\n",
            "17/17 [==============================] - 2s 90ms/step - loss: 0.0022\n",
            "Epoch 10/10\n",
            "17/17 [==============================] - 2s 89ms/step - loss: 0.0022\n"
          ]
        }
      ]
    },
    {
      "cell_type": "code",
      "source": [
        "# Visualize loss\n",
        "loss = history.history['loss']\n",
        "\n",
        "plt.figure()\n",
        "plt.plot(loss, label = \"Training Loss\")\n",
        "plt.legend()\n",
        "plt.show()"
      ],
      "metadata": {
        "colab": {
          "base_uri": "https://localhost:8080/",
          "height": 265
        },
        "id": "F9zXnNypcShR",
        "outputId": "e170844e-bf94-4293-d239-ef3bd68de4f5"
      },
      "execution_count": 42,
      "outputs": [
        {
          "output_type": "display_data",
          "data": {
            "text/plain": [
              "<Figure size 432x288 with 1 Axes>"
            ],
            "image/png": "[encoded data removed]"
          },
          "metadata": {
            "needs_background": "light"
          }
        }
      ]
    },
    {
      "cell_type": "code",
      "source": [
        "y_pred = model.predict(X_test)\n",
        "y_pred = sc.inverse_transform(y_pred) \n",
        "y_real = sc.inverse_transform(y_test)\n",
        "\n",
        "print(f'\\nMAE={mae(y_pred-y_real)}, RMSE={rmse(y_pred-y_real)}')"
      ],
      "metadata": {
        "id": "31KTbmVLvPIb",
        "colab": {
          "base_uri": "https://localhost:8080/"
        },
        "outputId": "757eb7c7-ac86-43d1-aac8-1b434312a562"
      },
      "execution_count": 43,
      "outputs": [
        {
          "output_type": "stream",
          "name": "stdout",
          "text": [
            "\n",
            "MAE=71.6982567993253, RMSE=88.80153763534803\n"
          ]
        }
      ]
    },
    {
      "cell_type": "code",
      "source": [
        "fig, axes = plt.subplots(1, 1, figsize=(6, 3), facecolor='none')\n",
        "plt.scatter(range(len(y_real.reshape(-1))), y_real.reshape(-1), s=0.2, color = 'red', label = 'actual')\n",
        "plt.scatter(range(len(y_real.reshape(-1))), y_pred.reshape(-1), s=0.2, color = 'blue', label = 'predicted')\n",
        "plt.title('WEP over a time period')\n",
        "plt.xlabel('Time')\n",
        "plt.xticks([])\n",
        "plt.ylabel('WEP (S$)')\n",
        "plt.legend()\n",
        "plt.show()"
      ],
      "metadata": {
        "colab": {
          "base_uri": "https://localhost:8080/",
          "height": 224
        },
        "id": "cRzUg02vx600",
        "outputId": "3ff9d229-8fb9-4df8-8a70-16c61f1426ff"
      },
      "execution_count": 41,
      "outputs": [
        {
          "output_type": "display_data",
          "data": {
            "text/plain": [
              "<Figure size 432x216 with 1 Axes>"
            ],
            "image/png": "[encoded data removed]"
          },
          "metadata": {
            "needs_background": "light"
          }
        }
      ]
    },
    {
      "cell_type": "code",
      "source": [
        "## NO CLIP: TRAINING\n",
        "\n",
        "df = pd.read_feather('/content/drive/MyDrive/wep_2012_22.feather')\n",
        "df = df[['DATETIME', 'WEP ($/MWh)']]\n",
        "df.columns = ['ds', 'y']\n",
        "max_price = df.y.median() + 3*df.y.std()\n",
        "\n",
        "df_train = df[(df['ds'] < '2022-08-01') & (df['ds'] >= f'2021-01-01')]\n",
        "df_test = df[(df['ds'] >= '2022-08-01')]\n",
        "df_train['y'] = df_train['y'].apply(lambda x: max_price if x > max_price else x)\n",
        "df_test['y'] = df_test['y'].apply(lambda x: max_price if x > max_price else x)\n",
        "\n",
        "# Preprocessing the data\n",
        "sc = MinMaxScaler(feature_range = (0,1)) \n",
        "training_values = df_train['y'].values.reshape(-1, 1)\n",
        "training_scaled_values = sc.fit_transform(training_values)\n",
        "\n",
        "# We use 30 days prior as past input, to predict the 10th day in the future\n",
        "DAYS_BEFORE = 30\n",
        "DAYS_IN_FUTURE = 10\n",
        "\n",
        "X_train = []\n",
        "y_train = []\n",
        "\n",
        "for i in range(48*DAYS_BEFORE, len(training_scaled_values)-48*DAYS_IN_FUTURE, 48):\n",
        "  X_train.append(training_scaled_values[i-48*DAYS_BEFORE:i]) \n",
        "  y_train.append(training_scaled_values[i+48*DAYS_IN_FUTURE:i+48*(DAYS_IN_FUTURE+1)])\n",
        "\n",
        "# Shuffle the training data\n",
        "np.random.seed(7)\n",
        "np.random.shuffle(X_train)\n",
        "np.random.seed(7)\n",
        "np.random.shuffle(y_train)\n",
        "tf.random.set_seed(7)\n",
        "\n",
        "X_train, y_train = np.array(X_train), np.squeeze(np.array(y_train))\n",
        "X_train = np.reshape(X_train, (X_train.shape[0], 48*DAYS_BEFORE, 1))\n",
        "\n",
        "# Get the test data\n",
        "testing_values = df_test['y'].values.reshape(-1,1)\n",
        "testing_scaled_values = sc.transform(testing_values)\n",
        "\n",
        "X_test = []\n",
        "y_test = []\n",
        "\n",
        "for i in range(48*DAYS_BEFORE, len(testing_scaled_values)-48*DAYS_IN_FUTURE, 48):\n",
        "  X_test.append(testing_scaled_values[i-48*DAYS_BEFORE:i]) \n",
        "  y_test.append(testing_scaled_values[i+48*DAYS_IN_FUTURE:i+48*(DAYS_IN_FUTURE+1)])\n",
        "\n",
        "X_test, y_test = np.array(X_test), np.squeeze(np.array(y_test))\n",
        "X_test = np.reshape(X_test, (X_test.shape[0], 48*DAYS_BEFORE, 1))\n",
        "\n",
        "model = tf.keras.Sequential([\n",
        "    LSTM(80, return_sequences=True, input_shape=(48*DAYS_BEFORE, 1)),\n",
        "    Dropout(0.2),\n",
        "    LSTM(100),\n",
        "    Dropout(0.2),\n",
        "    Dense(48)\n",
        "])\n",
        "\n",
        "def rmse_loss(y_true, y_pred):\n",
        "    return tf.square(tf.math.reduce_mean(tf.square(y_true - y_pred)))\n",
        "\n",
        "model.compile(\n",
        "    optimizer=tf.keras.optimizers.Adam(0.001),\n",
        "    loss=rmse_loss,\n",
        ")\n",
        "\n",
        "## Create checkpoints\n",
        "checkpoint_save_path = \"./DLW0001.ckpt\"\n",
        "\n",
        "cp_callback = tf.keras.callbacks.ModelCheckpoint(\n",
        "    filepath=checkpoint_save_path,\n",
        "    save_weights_only= True,\n",
        "    save_best_only= True,\n",
        "    monitor = 'loss'\n",
        ")\n",
        "\n",
        "X_train.shape, X_test.shape, y_train.shape, y_test.shape"
      ],
      "metadata": {
        "colab": {
          "base_uri": "https://localhost:8080/"
        },
        "id": "G_qllotcdnvY",
        "outputId": "6142f89d-a1a0-4f60-81d8-183825b2b974"
      },
      "execution_count": 51,
      "outputs": [
        {
          "output_type": "stream",
          "name": "stderr",
          "text": [
            "WARNING - (py.warnings._showwarnmsg) - /usr/local/lib/python3.7/dist-packages/ipykernel_launcher.py:10: SettingWithCopyWarning: \n",
            "A value is trying to be set on a copy of a slice from a DataFrame.\n",
            "Try using .loc[row_indexer,col_indexer] = value instead\n",
            "\n",
            "See the caveats in the documentation: https://pandas.pydata.org/pandas-docs/stable/user_guide/indexing.html#returning-a-view-versus-a-copy\n",
            "  # Remove the CWD from sys.path while we load stuff.\n",
            "\n",
            "WARNING:py.warnings:/usr/local/lib/python3.7/dist-packages/ipykernel_launcher.py:10: SettingWithCopyWarning: \n",
            "A value is trying to be set on a copy of a slice from a DataFrame.\n",
            "Try using .loc[row_indexer,col_indexer] = value instead\n",
            "\n",
            "See the caveats in the documentation: https://pandas.pydata.org/pandas-docs/stable/user_guide/indexing.html#returning-a-view-versus-a-copy\n",
            "  # Remove the CWD from sys.path while we load stuff.\n",
            "\n",
            "WARNING - (py.warnings._showwarnmsg) - /usr/local/lib/python3.7/dist-packages/ipykernel_launcher.py:11: SettingWithCopyWarning: \n",
            "A value is trying to be set on a copy of a slice from a DataFrame.\n",
            "Try using .loc[row_indexer,col_indexer] = value instead\n",
            "\n",
            "See the caveats in the documentation: https://pandas.pydata.org/pandas-docs/stable/user_guide/indexing.html#returning-a-view-versus-a-copy\n",
            "  # This is added back by InteractiveShellApp.init_path()\n",
            "\n",
            "WARNING:py.warnings:/usr/local/lib/python3.7/dist-packages/ipykernel_launcher.py:11: SettingWithCopyWarning: \n",
            "A value is trying to be set on a copy of a slice from a DataFrame.\n",
            "Try using .loc[row_indexer,col_indexer] = value instead\n",
            "\n",
            "See the caveats in the documentation: https://pandas.pydata.org/pandas-docs/stable/user_guide/indexing.html#returning-a-view-versus-a-copy\n",
            "  # This is added back by InteractiveShellApp.init_path()\n",
            "\n"
          ]
        },
        {
          "output_type": "execute_result",
          "data": {
            "text/plain": [
              "((537, 1440, 1), (9, 1440, 1), (537, 48), (9, 48))"
            ]
          },
          "metadata": {},
          "execution_count": 51
        }
      ]
    },
    {
      "cell_type": "code",
      "source": [
        "# Training\n",
        "history = model.fit(X_train, y_train, batch_size = 32, epochs = 10, callbacks = [cp_callback])\n",
        "\n",
        "y_pred = model.predict(X_test)\n",
        "y_pred = sc.inverse_transform(y_pred) \n",
        "y_real = sc.inverse_transform(y_test)\n",
        "\n",
        "print(f'\\nMAE={mae(y_pred-y_real)}, RMSE={rmse(y_pred-y_real)}')"
      ],
      "metadata": {
        "colab": {
          "base_uri": "https://localhost:8080/"
        },
        "id": "z6E81AYKdtBA",
        "outputId": "b23e5bb9-9c4b-4cb2-8ca8-951a9996fb1b"
      },
      "execution_count": 52,
      "outputs": [
        {
          "output_type": "stream",
          "name": "stdout",
          "text": [
            "Epoch 1/10\n",
            "17/17 [==============================] - 4s 95ms/step - loss: 0.0186\n",
            "Epoch 2/10\n",
            "17/17 [==============================] - 2s 91ms/step - loss: 0.0036\n",
            "Epoch 3/10\n",
            "17/17 [==============================] - 2s 91ms/step - loss: 0.0028\n",
            "Epoch 4/10\n",
            "17/17 [==============================] - 2s 91ms/step - loss: 0.0026\n",
            "Epoch 5/10\n",
            "17/17 [==============================] - 2s 91ms/step - loss: 0.0025\n",
            "Epoch 6/10\n",
            "17/17 [==============================] - 2s 91ms/step - loss: 0.0024\n",
            "Epoch 7/10\n",
            "17/17 [==============================] - 2s 91ms/step - loss: 0.0023\n",
            "Epoch 8/10\n",
            "17/17 [==============================] - 2s 91ms/step - loss: 0.0022\n",
            "Epoch 9/10\n",
            "17/17 [==============================] - 2s 91ms/step - loss: 0.0022\n",
            "Epoch 10/10\n",
            "17/17 [==============================] - 2s 90ms/step - loss: 0.0022\n",
            "\n",
            "MAE=71.6982567993253, RMSE=88.80153763534803\n"
          ]
        }
      ]
    },
    {
      "cell_type": "markdown",
      "source": [
        "## Oct Data\n",
        "\n",
        "We only managed to tune LSTM to perform better than Neural Prophet at the end, so this temp output was used for the other components of the project."
      ],
      "metadata": {
        "id": "pdCRpUbyUjy3"
      }
    },
    {
      "cell_type": "code",
      "source": [
        "import uuid\n",
        "import pandas as pd\n",
        "from neuralprophet import NeuralProphet"
      ],
      "metadata": {
        "id": "HZmCHuYFWAoo"
      },
      "execution_count": 48,
      "outputs": []
    },
    {
      "cell_type": "code",
      "source": [
        "df = pd.read_feather('/content/drive/MyDrive/wep_2012_22.feather')\n",
        "df = df[['DATETIME', 'WEP ($/MWh)']]\n",
        "df.columns = ['ds', 'y']\n",
        "max_price = df.y.median() + 3*df.y.std()\n",
        "df_train = df[(df['ds'] < '2022-09-18') & (df['ds'] >= f'2021-01-01')]\n",
        "\n",
        "m = NeuralProphet()\n",
        "metrics = m.fit(df_train)"
      ],
      "metadata": {
        "colab": {
          "base_uri": "https://localhost:8080/",
          "height": 431,
          "referenced_widgets": [
            "4c90f85acc6845e69008dc48405c164d",
            "023d6b0d696d4dc3ac686df4db1407ae",
            "e10836b90d8442798693742587fdf6e5",
            "3fc921287c27432186e52feed4b5253c",
            "36b6e80b121141239afa6f4a3a21fffc",
            "e274db0764c34f76a80baad201277545",
            "2b6cdebc440047719f5b6b37434284b6",
            "2b18d303361b44a39425cd742556f021",
            "a2ba3a78ca464392a5b54b0530673ce3",
            "a2edac68b76d4d6db9de009b7b3e8050",
            "10a3de14e5ce4e719c3fb1c858913d50",
            "a7af30564556461781d2fea9842f5680",
            "2c8afb2d8da14cc19b136ed91acdb504",
            "14d90bc6f7894c319c94ec97da821afd",
            "af3c1402f30f4681b292175a9b6c6a8f",
            "660b3a6b8b514b4f9b17ad43b963d056",
            "809657b90d0946a3b3e59584ea71e964",
            "5551f7e6df8f44078c0657e3c197db14",
            "48e1eff59dd24257b1ba80f2bfb1bb4f",
            "0101ba0100894632bb9a255995118b11",
            "10dfba532e7e4fe99213eb12d33df5ed",
            "0e025bea44e74ed19e4b9ad9378bb2a7"
          ]
        },
        "id": "RHaAAk8-UmZn",
        "outputId": "430668b0-8929-4392-ffc3-9ab4631c8566"
      },
      "execution_count": 49,
      "outputs": [
        {
          "output_type": "stream",
          "name": "stderr",
          "text": [
            "INFO - (NP.df_utils._infer_frequency) - Major frequency 30T corresponds to 99.997% of the data.\n",
            "INFO:NP.df_utils:Major frequency 30T corresponds to 99.997% of the data.\n",
            "INFO - (NP.df_utils._infer_frequency) - Dataframe freq automatically defined as 30T\n",
            "INFO:NP.df_utils:Dataframe freq automatically defined as 30T\n",
            "INFO - (NP.config.init_data_params) - Setting normalization to global as only one dataframe provided for training.\n",
            "INFO:NP.config:Setting normalization to global as only one dataframe provided for training.\n",
            "INFO - (NP.utils.set_auto_seasonalities) - Disabling yearly seasonality. Run NeuralProphet with yearly_seasonality=True to override this.\n",
            "INFO:NP.utils:Disabling yearly seasonality. Run NeuralProphet with yearly_seasonality=True to override this.\n",
            "INFO - (NP.config.set_auto_batch_epoch) - Auto-set batch_size to 64\n",
            "INFO:NP.config:Auto-set batch_size to 64\n",
            "INFO - (NP.config.set_auto_batch_epoch) - Auto-set epochs to 78\n",
            "INFO:NP.config:Auto-set epochs to 78\n"
          ]
        },
        {
          "output_type": "display_data",
          "data": {
            "text/plain": [
              "  0%|          | 0/161 [00:00<?, ?it/s]"
            ],
            "application/vnd.jupyter.widget-view+json": {
              "version_major": 2,
              "version_minor": 0,
              "model_id": "4c90f85acc6845e69008dc48405c164d"
            }
          },
          "metadata": {}
        },
        {
          "output_type": "stream",
          "name": "stderr",
          "text": [
            "INFO - (NP.utils_torch.lr_range_test) - lr-range-test results: steep: 8.06E-02, min: 8.29E-01\n",
            "INFO:NP.utils_torch:lr-range-test results: steep: 8.06E-02, min: 8.29E-01\n"
          ]
        },
        {
          "output_type": "display_data",
          "data": {
            "text/plain": [
              "  0%|          | 0/161 [00:00<?, ?it/s]"
            ],
            "application/vnd.jupyter.widget-view+json": {
              "version_major": 2,
              "version_minor": 0,
              "model_id": "a7af30564556461781d2fea9842f5680"
            }
          },
          "metadata": {}
        },
        {
          "output_type": "stream",
          "name": "stderr",
          "text": [
            "INFO - (NP.utils_torch.lr_range_test) - lr-range-test results: steep: 9.17E-02, min: 7.29E-01\n",
            "INFO:NP.utils_torch:lr-range-test results: steep: 9.17E-02, min: 7.29E-01\n",
            "INFO - (NP.forecaster._init_train_loader) - lr-range-test selected learning rate: 9.04E-02\n",
            "INFO:NP.forecaster:lr-range-test selected learning rate: 9.04E-02\n",
            "Epoch[78/78]: 100%|██████████| 78/78 [01:20<00:00,  1.04s/it, SmoothL1Loss=0.0747, MAE=121, RMSE=280, RegLoss=0]\n"
          ]
        }
      ]
    },
    {
      "cell_type": "code",
      "source": [
        "df_future = m.make_future_dataframe(df, periods=48*30)\n",
        "forecast = m.predict(df_future)[['ds', 'yhat1']]\n",
        "forecast['id'] = pd.Series([str(uuid.uuid4()) for _ in range(len(forecast))])\n",
        "forecast = forecast.iloc[:, [2,0,1]]\n",
        "forecast.columns = ['id', 'timestamp', 'price']\n",
        "forecast.to_csv('/content/drive/MyDrive/wep_forecast.csv', index=False)\n",
        "\n",
        "forecast"
      ],
      "metadata": {
        "colab": {
          "base_uri": "https://localhost:8080/",
          "height": 632
        },
        "id": "xHLEWUxTVFt6",
        "outputId": "707e4ab5-51fb-490e-988e-e7b7ada2a225"
      },
      "execution_count": 50,
      "outputs": [
        {
          "output_type": "stream",
          "name": "stderr",
          "text": [
            "INFO - (NP.df_utils._infer_frequency) - Major frequency 30T corresponds to 99.999% of the data.\n",
            "INFO:NP.df_utils:Major frequency 30T corresponds to 99.999% of the data.\n",
            "INFO - (NP.df_utils._infer_frequency) - Defined frequency is equal to major frequency - 30T\n",
            "INFO:NP.df_utils:Defined frequency is equal to major frequency - 30T\n",
            "INFO - (NP.df_utils._infer_frequency) - Major frequency 30T corresponds to 99.931% of the data.\n",
            "INFO:NP.df_utils:Major frequency 30T corresponds to 99.931% of the data.\n",
            "INFO - (NP.df_utils._infer_frequency) - Defined frequency is equal to major frequency - 30T\n",
            "INFO:NP.df_utils:Defined frequency is equal to major frequency - 30T\n",
            "INFO - (NP.df_utils._infer_frequency) - Major frequency 30T corresponds to 99.931% of the data.\n",
            "INFO:NP.df_utils:Major frequency 30T corresponds to 99.931% of the data.\n",
            "INFO - (NP.df_utils._infer_frequency) - Defined frequency is equal to major frequency - 30T\n",
            "INFO:NP.df_utils:Defined frequency is equal to major frequency - 30T\n"
          ]
        },
        {
          "output_type": "execute_result",
          "data": {
            "text/plain": [
              "                                        id           timestamp       price\n",
              "0     7396fc0b-1f83-4af1-8772-2b5d4d5473dd 2022-09-19 00:00:00  172.522049\n",
              "1     6c7155b5-9c6c-4947-bd92-9f4255d06ea5 2022-09-19 00:30:00  175.020905\n",
              "2     0e12c025-dbe6-439d-95e5-b65feaaee5ae 2022-09-19 01:00:00  171.176010\n",
              "3     cbc0bb28-be0f-423b-80c3-e0cf607629ce 2022-09-19 01:30:00  159.839279\n",
              "4     ab01b728-c20f-401b-ae9f-cc36cae48a53 2022-09-19 02:00:00  144.073547\n",
              "...                                    ...                 ...         ...\n",
              "1435  a993bcaf-a1dc-4009-badc-b54b3b6e94b0 2022-10-18 21:30:00  257.482025\n",
              "1436  761dae0a-ea6d-4a47-9b46-42e94fe7f2bd 2022-10-18 22:00:00  225.137833\n",
              "1437  53ebc7b6-49ff-4fc9-902e-406fda746cc6 2022-10-18 22:30:00  199.560989\n",
              "1438  e2fe9408-ee68-4dbb-9785-acff94f7b83f 2022-10-18 23:00:00  185.383530\n",
              "1439  ac295768-b6d9-4294-9101-d6fa036b6fc3 2022-10-18 23:30:00  181.924774\n",
              "\n",
              "[1440 rows x 3 columns]"
            ],
            "text/html": [
              "\n",
              "  <div id=\"df-f92baffa-9b96-4b92-bb10-9c6de4b3eb13\">\n",
              "    <div class=\"colab-df-container\">\n",
              "      <div>\n",
              "<style scoped>\n",
              "    .dataframe tbody tr th:only-of-type {\n",
              "        vertical-align: middle;\n",
              "    }\n",
              "\n",
              "    .dataframe tbody tr th {\n",
              "        vertical-align: top;\n",
              "    }\n",
              "\n",
              "    .dataframe thead th {\n",
              "        text-align: right;\n",
              "    }\n",
              "</style>\n",
              "<table border=\"1\" class=\"dataframe\">\n",
              "  <thead>\n",
              "    <tr style=\"text-align: right;\">\n",
              "      <th></th>\n",
              "      <th>id</th>\n",
              "      <th>timestamp</th>\n",
              "      <th>price</th>\n",
              "    </tr>\n",
              "  </thead>\n",
              "  <tbody>\n",
              "    <tr>\n",
              "      <th>0</th>\n",
              "      <td>7396fc0b-1f83-4af1-8772-2b5d4d5473dd</td>\n",
              "      <td>2022-09-19 00:00:00</td>\n",
              "      <td>172.522049</td>\n",
              "    </tr>\n",
              "    <tr>\n",
              "      <th>1</th>\n",
              "      <td>6c7155b5-9c6c-4947-bd92-9f4255d06ea5</td>\n",
              "      <td>2022-09-19 00:30:00</td>\n",
              "      <td>175.020905</td>\n",
              "    </tr>\n",
              "    <tr>\n",
              "      <th>2</th>\n",
              "      <td>0e12c025-dbe6-439d-95e5-b65feaaee5ae</td>\n",
              "      <td>2022-09-19 01:00:00</td>\n",
              "      <td>171.176010</td>\n",
              "    </tr>\n",
              "    <tr>\n",
              "      <th>3</th>\n",
              "      <td>cbc0bb28-be0f-423b-80c3-e0cf607629ce</td>\n",
              "      <td>2022-09-19 01:30:00</td>\n",
              "      <td>159.839279</td>\n",
              "    </tr>\n",
              "    <tr>\n",
              "      <th>4</th>\n",
              "      <td>ab01b728-c20f-401b-ae9f-cc36cae48a53</td>\n",
              "      <td>2022-09-19 02:00:00</td>\n",
              "      <td>144.073547</td>\n",
              "    </tr>\n",
              "    <tr>\n",
              "      <th>...</th>\n",
              "      <td>...</td>\n",
              "      <td>...</td>\n",
              "      <td>...</td>\n",
              "    </tr>\n",
              "    <tr>\n",
              "      <th>1435</th>\n",
              "      <td>a993bcaf-a1dc-4009-badc-b54b3b6e94b0</td>\n",
              "      <td>2022-10-18 21:30:00</td>\n",
              "      <td>257.482025</td>\n",
              "    </tr>\n",
              "    <tr>\n",
              "      <th>1436</th>\n",
              "      <td>761dae0a-ea6d-4a47-9b46-42e94fe7f2bd</td>\n",
              "      <td>2022-10-18 22:00:00</td>\n",
              "      <td>225.137833</td>\n",
              "    </tr>\n",
              "    <tr>\n",
              "      <th>1437</th>\n",
              "      <td>53ebc7b6-49ff-4fc9-902e-406fda746cc6</td>\n",
              "      <td>2022-10-18 22:30:00</td>\n",
              "      <td>199.560989</td>\n",
              "    </tr>\n",
              "    <tr>\n",
              "      <th>1438</th>\n",
              "      <td>e2fe9408-ee68-4dbb-9785-acff94f7b83f</td>\n",
              "      <td>2022-10-18 23:00:00</td>\n",
              "      <td>185.383530</td>\n",
              "    </tr>\n",
              "    <tr>\n",
              "      <th>1439</th>\n",
              "      <td>ac295768-b6d9-4294-9101-d6fa036b6fc3</td>\n",
              "      <td>2022-10-18 23:30:00</td>\n",
              "      <td>181.924774</td>\n",
              "    </tr>\n",
              "  </tbody>\n",
              "</table>\n",
              "<p>1440 rows × 3 columns</p>\n",
              "</div>\n",
              "      <button class=\"colab-df-convert\" onclick=\"convertToInteractive('df-f92baffa-9b96-4b92-bb10-9c6de4b3eb13')\"\n",
              "              title=\"Convert this dataframe to an interactive table.\"\n",
              "              style=\"display:none;\">\n",
              "        \n",
              "  <svg xmlns=\"http://www.w3.org/2000/svg\" height=\"24px\"viewBox=\"0 0 24 24\"\n",
              "       width=\"24px\">\n",
              "    <path d=\"M0 0h24v24H0V0z\" fill=\"none\"/>\n",
              "    <path d=\"M18.56 5.44l.94 2.06.94-2.06 2.06-.94-2.06-.94-.94-2.06-.94 2.06-2.06.94zm-11 1L8.5 8.5l.94-2.06 2.06-.94-2.06-.94L8.5 2.5l-.94 2.06-2.06.94zm10 10l.94 2.06.94-2.06 2.06-.94-2.06-.94-.94-2.06-.94 2.06-2.06.94z\"/><path d=\"M17.41 7.96l-1.37-1.37c-.4-.4-.92-.59-1.43-.59-.52 0-1.04.2-1.43.59L10.3 9.45l-7.72 7.72c-.78.78-.78 2.05 0 2.83L4 21.41c.39.39.9.59 1.41.59.51 0 1.02-.2 1.41-.59l7.78-7.78 2.81-2.81c.8-.78.8-2.07 0-2.86zM5.41 20L4 18.59l7.72-7.72 1.47 1.35L5.41 20z\"/>\n",
              "  </svg>\n",
              "      </button>\n",
              "      \n",
              "  <style>\n",
              "    .colab-df-container {\n",
              "      display:flex;\n",
              "      flex-wrap:wrap;\n",
              "      gap: 12px;\n",
              "    }\n",
              "\n",
              "    .colab-df-convert {\n",
              "      background-color: #E8F0FE;\n",
              "      border: none;\n",
              "      border-radius: 50%;\n",
              "      cursor: pointer;\n",
              "      display: none;\n",
              "      fill: #1967D2;\n",
              "      height: 32px;\n",
              "      padding: 0 0 0 0;\n",
              "      width: 32px;\n",
              "    }\n",
              "\n",
              "    .colab-df-convert:hover {\n",
              "      background-color: #E2EBFA;\n",
              "      box-shadow: 0px 1px 2px rgba(60, 64, 67, 0.3), 0px 1px 3px 1px rgba(60, 64, 67, 0.15);\n",
              "      fill: #174EA6;\n",
              "    }\n",
              "\n",
              "    [theme=dark] .colab-df-convert {\n",
              "      background-color: #3B4455;\n",
              "      fill: #D2E3FC;\n",
              "    }\n",
              "\n",
              "    [theme=dark] .colab-df-convert:hover {\n",
              "      background-color: #434B5C;\n",
              "      box-shadow: 0px 1px 3px 1px rgba(0, 0, 0, 0.15);\n",
              "      filter: drop-shadow(0px 1px 2px rgba(0, 0, 0, 0.3));\n",
              "      fill: #FFFFFF;\n",
              "    }\n",
              "  </style>\n",
              "\n",
              "      <script>\n",
              "        const buttonEl =\n",
              "          document.querySelector('#df-f92baffa-9b96-4b92-bb10-9c6de4b3eb13 button.colab-df-convert');\n",
              "        buttonEl.style.display =\n",
              "          google.colab.kernel.accessAllowed ? 'block' : 'none';\n",
              "\n",
              "        async function convertToInteractive(key) {\n",
              "          const element = document.querySelector('#df-f92baffa-9b96-4b92-bb10-9c6de4b3eb13');\n",
              "          const dataTable =\n",
              "            await google.colab.kernel.invokeFunction('convertToInteractive',\n",
              "                                                     [key], {});\n",
              "          if (!dataTable) return;\n",
              "\n",
              "          const docLinkHtml = 'Like what you see? Visit the ' +\n",
              "            '<a target=\"_blank\" href=https://colab.research.google.com/notebooks/data_table.ipynb>data table notebook</a>'\n",
              "            + ' to learn more about interactive tables.';\n",
              "          element.innerHTML = '';\n",
              "          dataTable['output_type'] = 'display_data';\n",
              "          await google.colab.output.renderOutput(dataTable, element);\n",
              "          const docLink = document.createElement('div');\n",
              "          docLink.innerHTML = docLinkHtml;\n",
              "          element.appendChild(docLink);\n",
              "        }\n",
              "      </script>\n",
              "    </div>\n",
              "  </div>\n",
              "  "
            ]
          },
          "metadata": {},
          "execution_count": 50
        }
      ]
    },
    {
      "cell_type": "code",
      "source": [],
      "metadata": {
        "id": "dWub0e_acvPJ"
      },
      "execution_count": null,
      "outputs": []
    }
  ]
}